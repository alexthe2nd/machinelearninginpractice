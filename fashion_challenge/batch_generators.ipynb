{
 "cells": [
  {
   "cell_type": "markdown",
   "metadata": {},
   "source": [
    "### Ideas\n",
    "1. Binning\n",
    "2. Make sizes equal in a random batch (will need the network to be independent of image size)\n",
    "3. Use aspect ratio to resize. Binning on aspect ratio and then resize in the network."
   ]
  },
  {
   "cell_type": "code",
   "execution_count": 1,
   "metadata": {
    "collapsed": false
   },
   "outputs": [],
   "source": [
    "## Imports\n",
    "import os\n",
    "import json\n",
    "from collections import defaultdict\n",
    "\n",
    "import pandas as pd\n",
    "import numpy as np\n",
    "import PIL\n",
    "from PIL import Image\n",
    "import matplotlib.pyplot as plt\n",
    "from sklearn.preprocessing import MultiLabelBinarizer\n",
    "from joblib import Parallel, delayed\n",
    "\n",
    "%matplotlib inline"
   ]
  },
  {
   "cell_type": "code",
   "execution_count": 2,
   "metadata": {
    "collapsed": true
   },
   "outputs": [],
   "source": [
    "## Global variables\n",
    "train_json = 'train.json'\n",
    "train_path = 'train/'"
   ]
  },
  {
   "cell_type": "code",
   "execution_count": 3,
   "metadata": {
    "collapsed": true
   },
   "outputs": [],
   "source": [
    "train_inp = open(train_json).read()\n",
    "train_inp = json.loads(train_inp)\n",
    "df = pd.DataFrame(train_inp['annotations'])\n",
    "\n",
    "# Binarize the labels\n",
    "mlb = MultiLabelBinarizer()\n",
    "df = df.join(pd.DataFrame(mlb.fit_transform(df.pop('labelId')),\n",
    "                          columns=mlb.classes_,\n",
    "                          index=df.index))"
   ]
  },
  {
   "cell_type": "code",
   "execution_count": 4,
   "metadata": {
    "collapsed": false
   },
   "outputs": [
    {
     "data": {
      "text/plain": [
       "Index(['imageId', '1', '10', '100', '101', '102', '103', '104', '105', '106',\n",
       "       ...\n",
       "       '90', '91', '92', '93', '94', '95', '96', '97', '98', '99'],\n",
       "      dtype='object', length=229)"
      ]
     },
     "execution_count": 4,
     "metadata": {},
     "output_type": "execute_result"
    }
   ],
   "source": [
    "df.columns"
   ]
  },
  {
   "cell_type": "code",
   "execution_count": 5,
   "metadata": {
    "collapsed": true
   },
   "outputs": [],
   "source": [
    "# Load image sizes\n",
    "files = os.listdir(train_path)\n",
    "size = dict()\n",
    "\n",
    "for file in files:\n",
    "    img = Image.open(os.path.join(train_path, file))\n",
    "    size[file.split('.jpg')[0]] = img.size\n",
    "    \n",
    "df_size = pd.DataFrame(list(size.values()), index=list(map(int, size.keys())), columns=['x', 'y'])"
   ]
  },
  {
   "cell_type": "code",
   "execution_count": 6,
   "metadata": {
    "collapsed": true
   },
   "outputs": [],
   "source": [
    "df_final = pd.concat([df.iloc[df_size.index], df_size], axis=1)"
   ]
  },
  {
   "cell_type": "code",
   "execution_count": 7,
   "metadata": {
    "collapsed": false
   },
   "outputs": [
    {
     "data": {
      "text/html": [
       "<div>\n",
       "<table border=\"1\" class=\"dataframe\">\n",
       "  <thead>\n",
       "    <tr style=\"text-align: right;\">\n",
       "      <th></th>\n",
       "      <th>imageId</th>\n",
       "      <th>1</th>\n",
       "      <th>10</th>\n",
       "      <th>100</th>\n",
       "      <th>101</th>\n",
       "      <th>102</th>\n",
       "      <th>103</th>\n",
       "      <th>104</th>\n",
       "      <th>105</th>\n",
       "      <th>106</th>\n",
       "      <th>...</th>\n",
       "      <th>92</th>\n",
       "      <th>93</th>\n",
       "      <th>94</th>\n",
       "      <th>95</th>\n",
       "      <th>96</th>\n",
       "      <th>97</th>\n",
       "      <th>98</th>\n",
       "      <th>99</th>\n",
       "      <th>x</th>\n",
       "      <th>y</th>\n",
       "    </tr>\n",
       "  </thead>\n",
       "  <tbody>\n",
       "    <tr>\n",
       "      <th>156054</th>\n",
       "      <td>156055</td>\n",
       "      <td>0</td>\n",
       "      <td>0</td>\n",
       "      <td>0</td>\n",
       "      <td>0</td>\n",
       "      <td>0</td>\n",
       "      <td>0</td>\n",
       "      <td>0</td>\n",
       "      <td>0</td>\n",
       "      <td>0</td>\n",
       "      <td>...</td>\n",
       "      <td>0</td>\n",
       "      <td>0</td>\n",
       "      <td>0</td>\n",
       "      <td>0</td>\n",
       "      <td>0</td>\n",
       "      <td>0</td>\n",
       "      <td>0</td>\n",
       "      <td>0</td>\n",
       "      <td>600</td>\n",
       "      <td>600</td>\n",
       "    </tr>\n",
       "    <tr>\n",
       "      <th>110285</th>\n",
       "      <td>110286</td>\n",
       "      <td>0</td>\n",
       "      <td>0</td>\n",
       "      <td>0</td>\n",
       "      <td>0</td>\n",
       "      <td>0</td>\n",
       "      <td>0</td>\n",
       "      <td>0</td>\n",
       "      <td>0</td>\n",
       "      <td>0</td>\n",
       "      <td>...</td>\n",
       "      <td>0</td>\n",
       "      <td>0</td>\n",
       "      <td>0</td>\n",
       "      <td>0</td>\n",
       "      <td>0</td>\n",
       "      <td>0</td>\n",
       "      <td>0</td>\n",
       "      <td>0</td>\n",
       "      <td>507</td>\n",
       "      <td>600</td>\n",
       "    </tr>\n",
       "    <tr>\n",
       "      <th>286607</th>\n",
       "      <td>286608</td>\n",
       "      <td>0</td>\n",
       "      <td>0</td>\n",
       "      <td>0</td>\n",
       "      <td>0</td>\n",
       "      <td>0</td>\n",
       "      <td>0</td>\n",
       "      <td>0</td>\n",
       "      <td>0</td>\n",
       "      <td>0</td>\n",
       "      <td>...</td>\n",
       "      <td>0</td>\n",
       "      <td>0</td>\n",
       "      <td>0</td>\n",
       "      <td>0</td>\n",
       "      <td>0</td>\n",
       "      <td>0</td>\n",
       "      <td>1</td>\n",
       "      <td>0</td>\n",
       "      <td>600</td>\n",
       "      <td>600</td>\n",
       "    </tr>\n",
       "    <tr>\n",
       "      <th>482820</th>\n",
       "      <td>482821</td>\n",
       "      <td>0</td>\n",
       "      <td>0</td>\n",
       "      <td>0</td>\n",
       "      <td>0</td>\n",
       "      <td>0</td>\n",
       "      <td>0</td>\n",
       "      <td>0</td>\n",
       "      <td>0</td>\n",
       "      <td>0</td>\n",
       "      <td>...</td>\n",
       "      <td>0</td>\n",
       "      <td>0</td>\n",
       "      <td>0</td>\n",
       "      <td>0</td>\n",
       "      <td>0</td>\n",
       "      <td>0</td>\n",
       "      <td>0</td>\n",
       "      <td>0</td>\n",
       "      <td>600</td>\n",
       "      <td>600</td>\n",
       "    </tr>\n",
       "    <tr>\n",
       "      <th>194734</th>\n",
       "      <td>194735</td>\n",
       "      <td>0</td>\n",
       "      <td>0</td>\n",
       "      <td>0</td>\n",
       "      <td>0</td>\n",
       "      <td>0</td>\n",
       "      <td>0</td>\n",
       "      <td>0</td>\n",
       "      <td>1</td>\n",
       "      <td>0</td>\n",
       "      <td>...</td>\n",
       "      <td>0</td>\n",
       "      <td>0</td>\n",
       "      <td>0</td>\n",
       "      <td>0</td>\n",
       "      <td>0</td>\n",
       "      <td>0</td>\n",
       "      <td>0</td>\n",
       "      <td>0</td>\n",
       "      <td>388</td>\n",
       "      <td>500</td>\n",
       "    </tr>\n",
       "  </tbody>\n",
       "</table>\n",
       "<p>5 rows × 231 columns</p>\n",
       "</div>"
      ],
      "text/plain": [
       "       imageId  1  10  100  101  102  103  104  105  106 ...   92  93  94  95  \\\n",
       "156054  156055  0   0    0    0    0    0    0    0    0 ...    0   0   0   0   \n",
       "110285  110286  0   0    0    0    0    0    0    0    0 ...    0   0   0   0   \n",
       "286607  286608  0   0    0    0    0    0    0    0    0 ...    0   0   0   0   \n",
       "482820  482821  0   0    0    0    0    0    0    0    0 ...    0   0   0   0   \n",
       "194734  194735  0   0    0    0    0    0    0    1    0 ...    0   0   0   0   \n",
       "\n",
       "        96  97  98  99    x    y  \n",
       "156054   0   0   0   0  600  600  \n",
       "110285   0   0   0   0  507  600  \n",
       "286607   0   0   1   0  600  600  \n",
       "482820   0   0   0   0  600  600  \n",
       "194734   0   0   0   0  388  500  \n",
       "\n",
       "[5 rows x 231 columns]"
      ]
     },
     "execution_count": 7,
     "metadata": {},
     "output_type": "execute_result"
    }
   ],
   "source": [
    "df_final[:5]"
   ]
  },
  {
   "cell_type": "code",
   "execution_count": 11,
   "metadata": {
    "collapsed": false
   },
   "outputs": [
    {
     "data": {
      "text/plain": [
       "150"
      ]
     },
     "execution_count": 11,
     "metadata": {},
     "output_type": "execute_result"
    }
   ],
   "source": [
    "# del df; del df_size\n",
    "import gc; gc.collect()"
   ]
  },
  {
   "cell_type": "markdown",
   "metadata": {},
   "source": [
    "## Correlation of image size with labels"
   ]
  },
  {
   "cell_type": "code",
   "execution_count": 12,
   "metadata": {
    "collapsed": true
   },
   "outputs": [],
   "source": [
    "correlation = df_final.drop('imageId', axis=1).corr()"
   ]
  },
  {
   "cell_type": "code",
   "execution_count": 13,
   "metadata": {
    "collapsed": true
   },
   "outputs": [],
   "source": [
    "correlation[correlation==1] = 0"
   ]
  },
  {
   "cell_type": "code",
   "execution_count": 14,
   "metadata": {
    "collapsed": false
   },
   "outputs": [
    {
     "data": {
      "text/plain": [
       "151    0.76811\n",
       "59     0.76811\n",
       "dtype: float64"
      ]
     },
     "execution_count": 14,
     "metadata": {},
     "output_type": "execute_result"
    }
   ],
   "source": [
    "correlation.max()[correlation.max() == correlation.max().max()]"
   ]
  },
  {
   "cell_type": "code",
   "execution_count": 15,
   "metadata": {
    "collapsed": false
   },
   "outputs": [
    {
     "data": {
      "text/plain": [
       "<matplotlib.axes._subplots.AxesSubplot at 0x7ff4c2a2c320>"
      ]
     },
     "execution_count": 15,
     "metadata": {},
     "output_type": "execute_result"
    },
    {
     "data": {
      "image/png": "[encoded data removed]",
      "text/plain": [
       "<matplotlib.figure.Figure at 0x7ff4a3f4eb70>"
      ]
     },
     "metadata": {},
     "output_type": "display_data"
    }
   ],
   "source": [
    "correlation['x'].abs().hist()"
   ]
  },
  {
   "cell_type": "code",
   "execution_count": 16,
   "metadata": {
    "collapsed": false
   },
   "outputs": [
    {
     "data": {
      "text/plain": [
       "<matplotlib.axes._subplots.AxesSubplot at 0x7ff4d08ac320>"
      ]
     },
     "execution_count": 16,
     "metadata": {},
     "output_type": "execute_result"
    },
    {
     "data": {
      "image/png": "[encoded data removed]",
      "text/plain": [
       "<matplotlib.figure.Figure at 0x7ff4d08a86d8>"
      ]
     },
     "metadata": {},
     "output_type": "display_data"
    }
   ],
   "source": [
    "correlation['x'].abs().hist()"
   ]
  },
  {
   "cell_type": "code",
   "execution_count": 17,
   "metadata": {
    "collapsed": true
   },
   "outputs": [],
   "source": [
    "df_final['aspect'] = df_final.x / df_final.y"
   ]
  },
  {
   "cell_type": "code",
   "execution_count": 18,
   "metadata": {
    "collapsed": true
   },
   "outputs": [],
   "source": [
    "corr_aspect = df_final.corr()"
   ]
  },
  {
   "cell_type": "code",
   "execution_count": 19,
   "metadata": {
    "collapsed": false
   },
   "outputs": [
    {
     "data": {
      "text/plain": [
       "<matplotlib.axes._subplots.AxesSubplot at 0x7ff4ca708eb8>"
      ]
     },
     "execution_count": 19,
     "metadata": {},
     "output_type": "execute_result"
    },
    {
     "data": {
      "image/png": "[encoded data removed]",
      "text/plain": [
       "<matplotlib.figure.Figure at 0x7ff4ca71c748>"
      ]
     },
     "metadata": {},
     "output_type": "display_data"
    }
   ],
   "source": [
    "corr_aspect[corr_aspect == 1] = 0\n",
    "np.abs(corr_aspect['aspect']).hist()"
   ]
  },
  {
   "cell_type": "code",
   "execution_count": 20,
   "metadata": {
    "collapsed": false
   },
   "outputs": [
    {
     "data": {
      "text/plain": [
       "x    0.565927\n",
       "Name: aspect, dtype: float64"
      ]
     },
     "execution_count": 20,
     "metadata": {},
     "output_type": "execute_result"
    }
   ],
   "source": [
    "corr_aspect['aspect'][corr_aspect['aspect'] == np.abs(corr_aspect['aspect'].max())]"
   ]
  },
  {
   "cell_type": "code",
   "execution_count": 21,
   "metadata": {
    "collapsed": false
   },
   "outputs": [
    {
     "data": {
      "text/plain": [
       "-0.36655904979813431"
      ]
     },
     "execution_count": 21,
     "metadata": {},
     "output_type": "execute_result"
    }
   ],
   "source": [
    "corr_aspect['aspect']['y']"
   ]
  },
  {
   "cell_type": "markdown",
   "metadata": {},
   "source": [
    "## Result: No correlation between labels and image size or aspect ratio."
   ]
  },
  {
   "cell_type": "code",
   "execution_count": 22,
   "metadata": {
    "collapsed": true
   },
   "outputs": [],
   "source": [
    "df_final.to_csv('df.csv')"
   ]
  },
  {
   "cell_type": "markdown",
   "metadata": {},
   "source": [
    "# Batch generators"
   ]
  },
  {
   "cell_type": "code",
   "execution_count": 3,
   "metadata": {
    "collapsed": false
   },
   "outputs": [],
   "source": [
    "# If img_size given spits out batches of that file size. If not given randomly selects and resizes images. If a_ratio\n",
    "# given spits out images for that aspect ratio after resizing.\n",
    "\n",
    "def compute_df(train_json, train_path, max_size=None):\n",
    "    if 'df_final.csv' in os.listdir('.'):\n",
    "        return pd.read_csv('df_final.csv')\n",
    "    \n",
    "    train_inp = open(train_json).read()\n",
    "    train_inp = json.loads(train_inp)\n",
    "    df = pd.DataFrame(train_inp['annotations'])\n",
    "    df.imageId = df.imageId.astype('int')\n",
    "    df.index = df.imageId\n",
    "    df.drop('imageId', axis=1, inplace=True)\n",
    "\n",
    "    # Binarize the labels\n",
    "    mlb = MultiLabelBinarizer()\n",
    "    df = df.join(pd.DataFrame(mlb.fit_transform(df.pop('labelId')),\n",
    "                              columns=mlb.classes_,\n",
    "                              index=df.index))\n",
    "    \n",
    "    # Compute image sizes\n",
    "    files = os.listdir(train_path)\n",
    "    if max_size:\n",
    "        files = files[:10000]\n",
    "    size = dict()\n",
    "\n",
    "    for file in files:\n",
    "        try:\n",
    "            img = Image.open(os.path.join(train_path, file))\n",
    "        except OSError:\n",
    "            print(\"Couldn't load file: \", file)\n",
    "        size[file.split('.jpg')[0]] = img.size\n",
    "\n",
    "    df_size = pd.DataFrame(list(size.values()), index=list(map(int, size.keys())), columns=['x', 'y'])\n",
    "    \n",
    "    # Join all results\n",
    "    df_final = pd.concat([df.loc[df_size.index], df_size], axis=1)\n",
    "    df_final['aspect_ratio'] = df_final.x / df_final.y\n",
    "    \n",
    "    # Write the results to file\n",
    "    df_final.to_csv('df_final.csv')\n",
    "    del df; del df_size\n",
    "    return df_final"
   ]
  },
  {
   "cell_type": "code",
   "execution_count": 32,
   "metadata": {
    "collapsed": false
   },
   "outputs": [],
   "source": [
    "class BatchGenerator:\n",
    "    def __init__(self, train_json, train_path, df=None, size=None, a_ratio=None, resample=Image.LANCZOS,\n",
    "                 batch_size=32, n_jobs=-1):\n",
    "        \"\"\"\n",
    "        Initializer for Batch generator.\n",
    "        \n",
    "        Parameters\n",
    "        ----------\n",
    "        train_json: str\n",
    "            path to the training dataset json file\n",
    "        \n",
    "        train_path: str\n",
    "            path to the dir containing all the image files\n",
    "        \n",
    "        df: str (optional)\n",
    "            path to the csv file containing the image ids, labels, image sizes,\n",
    "            and aspect ratio. If None, calls compute_df to generate the file.\n",
    "        \n",
    "        size: list, type: [(x_size, y_size), ...] (optional)\n",
    "            If specified, randomly selects a pair of x_size and y_size from `size`\n",
    "            and generates a batch with images of size (x_size \\pm 50, y_size \\pm 50).\n",
    "            If None, randomly selects images and resizes them to (299, 299).\n",
    "        \n",
    "        a_ratio: list (optional)\n",
    "            Randomly selects the aspect ratio from `a_ratio` and generates a batch of\n",
    "            images of (299, 299) using images within aspect ratio of \\pm 0.25.\n",
    "            If None, falls back to argument size=None.\n",
    "        \n",
    "        resample: PIL Resampling methods\n",
    "            The resampling method to resize the images.\n",
    "        \n",
    "        batch_size: int\n",
    "            The number of images returned in each batch.\n",
    "            \n",
    "        n_jobs: int (or -1)\n",
    "            Number of workers to use. If -1, uses maximum number of workers.\n",
    "            \n",
    "        Returns\n",
    "        -------\n",
    "        X: array\n",
    "            Array of images of size `batch_size`\n",
    "        \n",
    "        y: array\n",
    "            Array of binarized labels of size `batch_size`.\n",
    "        \"\"\"\n",
    "        self.train_json = train_json\n",
    "        self.train_path = train_path\n",
    "        self.df = pd.read_csv(df) if df else compute_df(self.train_)\n",
    "        \n",
    "        if size is not None and a_ratio is not None:\n",
    "            raise ValueError(\"Only one of size and a_ratio can be specified\")\n",
    "        self.size = size\n",
    "        self.a_ratio = a_ratio\n",
    "        self.batch_size = batch_size\n",
    "        self.n_batches = self.df.shape[0] // self.batch_size\n",
    "        self.n_jobs = n_jobs\n",
    "    \n",
    "    def __iter__(self):\n",
    "        return self\n",
    "\n",
    "    def __next__(self):\n",
    "        return self.next()\n",
    "\n",
    "    def __len__(self):\n",
    "        # Provide length in number of batches\n",
    "        return self.n_batches\n",
    "    \n",
    "    def resize(self, img_id, image_size, resample=Image.LANCZOS, resize=False):\n",
    "        \"\"\"\n",
    "        Resizes the image to specified size.\n",
    "        \"\"\"\n",
    "        try:\n",
    "            img = Image.open(os.path.join(self.train_path, str(img_id) + '.jpg'))\n",
    "        except OSError:\n",
    "            print(\"Couldn't load image: \", str(img_id)+'.jpg')\n",
    "        \n",
    "        \n",
    "        return np.array(img.resize(image_size, resample=resample))\n",
    "    \n",
    "    def create_batch(self, df, resize=False, image_size=(299, 299), n_jobs=-1):\n",
    "        \"\"\"\n",
    "        Creates a batch from given df by loading the image files.\n",
    "        \n",
    "        Parameters\n",
    "        ----------\n",
    "        df: DataFrame object\n",
    "        \"\"\"\n",
    "        image_ids = df.index\n",
    "        y = df.drop(['x', 'y', 'aspect_ratio'], axis=1).values\n",
    "        \n",
    "        # Load images and resize them\n",
    "        X = Parallel(n_jobs=n_jobs)(delayed(self.resize)(img_id, image_size) for img_id in image_ids)\n",
    "#         X = [self.resize(img_id, image_size) for img_id in image_ids]\n",
    "        return np.array(X), y\n",
    "    \n",
    "    def next(self):\n",
    "        if self.a_ratio:\n",
    "            while True:\n",
    "                aspect_ratio = np.random.choice(self.a_ratio)\n",
    "                df_select = self.df[(self.df.aspect_ratio > (aspect_ratio - 0.25)) & \n",
    "                                    (self.df.aspect_ratio < (aspect_ratio + 0.25))].sample(self.batch_size,\n",
    "                                                                                           replace=True)\n",
    "                X_batch, y_batch = self.create_batch(df_select, resize=True,\n",
    "                                                     image_size=(299, 299), n_jobs=self.n_jobs)\n",
    "                return (X_batch, y_batch)\n",
    "        elif self.size:\n",
    "            while True:\n",
    "                size = self.size[np.random.randint(len(self.size))]\n",
    "                df_select = self.df[\n",
    "                    (self.df.x > (size[0] - 50)) & (self.df.x < (size[1] + 50)) &\n",
    "                    (self.df.y > (size[1] - 50)) & (self.df.y < (size[1] + 50))].sample(self.batch_size,\n",
    "                                                                                        replace=True)\n",
    "                X_batch, y_batch = self.create_batch(df_select, resize=True,\n",
    "                                                     image_size=size, n_jobs=self.n_jobs)\n",
    "                return (X_batch, y_batch)\n",
    "        else:\n",
    "            while True:\n",
    "                df_select = self.df.sample(self.batch_size, replace=True)\n",
    "                X_batch, y_batch = self.create_batch(df_select, resize=True,\n",
    "                                                     image_size=(299, 299), n_jobs=self.n_jobs)\n",
    "                return (X_batch, y_batch)"
   ]
  },
  {
   "cell_type": "code",
   "execution_count": 33,
   "metadata": {
    "collapsed": false
   },
   "outputs": [
    {
     "data": {
      "text/plain": [
       "323"
      ]
     },
     "execution_count": 33,
     "metadata": {},
     "output_type": "execute_result"
    }
   ],
   "source": [
    "import gc; gc.collect()"
   ]
  },
  {
   "cell_type": "code",
   "execution_count": 35,
   "metadata": {
    "collapsed": false
   },
   "outputs": [
    {
     "name": "stdout",
     "output_type": "stream",
     "text": [
      "(32, 299, 299, 3)\n",
      "(32, 229)\n",
      "(32, 299, 299, 3)\n",
      "(32, 229)\n",
      "(32, 299, 299, 3)\n",
      "(32, 229)\n",
      "(32, 299, 299, 3)\n",
      "(32, 229)\n",
      "(32, 299, 299, 3)\n",
      "(32, 229)\n",
      "(32, 299, 299, 3)\n",
      "(32, 229)\n",
      "(32, 299, 299, 3)\n",
      "(32, 229)\n",
      "(32, 299, 299, 3)\n",
      "(32, 229)\n",
      "(32, 299, 299, 3)\n",
      "(32, 229)\n",
      "(32, 299, 299, 3)\n",
      "(32, 229)\n",
      "(32, 299, 299, 3)\n",
      "(32, 229)\n",
      "(32, 299, 299, 3)\n",
      "(32, 229)\n",
      "(32, 299, 299, 3)\n",
      "(32, 229)\n",
      "(32, 299, 299, 3)\n",
      "(32, 229)\n",
      "(32, 299, 299, 3)\n",
      "(32, 229)\n",
      "(32, 299, 299, 3)\n",
      "(32, 229)\n",
      "(32, 299, 299, 3)\n",
      "(32, 229)\n",
      "(32, 299, 299, 3)\n",
      "(32, 229)\n",
      "(32, 299, 299, 3)\n",
      "(32, 229)\n",
      "(32, 299, 299, 3)\n",
      "(32, 229)\n",
      "(32, 299, 299, 3)\n",
      "(32, 229)\n",
      "(32, 299, 299, 3)\n",
      "(32, 229)\n",
      "(32, 299, 299, 3)\n",
      "(32, 229)\n",
      "(32, 299, 299, 3)\n",
      "(32, 229)\n",
      "(32, 299, 299, 3)\n",
      "(32, 229)\n",
      "(32, 299, 299, 3)\n",
      "(32, 229)\n",
      "(32, 299, 299, 3)\n",
      "(32, 229)\n",
      "(32, 299, 299, 3)\n",
      "(32, 229)\n",
      "Couldn't load image:  0.jpg\n"
     ]
    },
    {
     "ename": "JoblibUnboundLocalError",
     "evalue": "JoblibUnboundLocalError\n___________________________________________________________________________\nMultiprocessing exception:\n...........................................................................\n/home/ankur/miniconda3/envs/mlip/lib/python3.4/runpy.py in _run_module_as_main(mod_name='ipykernel.__main__', alter_argv=1)\n    165         sys.exit(msg)\n    166     main_globals = sys.modules[\"__main__\"].__dict__\n    167     if alter_argv:\n    168         sys.argv[0] = mod_spec.origin\n    169     return _run_code(code, main_globals, None,\n--> 170                      \"__main__\", mod_spec)\n        mod_spec = ModuleSpec(name='ipykernel.__main__', loader=<_f...b/python3.4/site-packages/ipykernel/__main__.py')\n    171 \n    172 def run_module(mod_name, init_globals=None,\n    173                run_name=None, alter_sys=False):\n    174     \"\"\"Execute a module's code without importing it\n\n...........................................................................\n/home/ankur/miniconda3/envs/mlip/lib/python3.4/runpy.py in _run_code(code=<code object <module> at 0x7f479cb49390, file \"/...3.4/site-packages/ipykernel/__main__.py\", line 1>, run_globals={'__builtins__': <module 'builtins' (built-in)>, '__cached__': '/home/ankur/miniconda3/envs/mlip/lib/python3.4/s...ges/ipykernel/__pycache__/__main__.cpython-34.pyc', '__doc__': None, '__file__': '/home/ankur/miniconda3/envs/mlip/lib/python3.4/site-packages/ipykernel/__main__.py', '__loader__': <_frozen_importlib.SourceFileLoader object>, '__name__': '__main__', '__package__': 'ipykernel', '__spec__': ModuleSpec(name='ipykernel.__main__', loader=<_f...b/python3.4/site-packages/ipykernel/__main__.py'), 'app': <module 'ipykernel.kernelapp' from '/home/ankur/.../python3.4/site-packages/ipykernel/kernelapp.py'>}, init_globals=None, mod_name='__main__', mod_spec=ModuleSpec(name='ipykernel.__main__', loader=<_f...b/python3.4/site-packages/ipykernel/__main__.py'), pkg_name='ipykernel', script_name=None)\n     80                        __cached__ = cached,\n     81                        __doc__ = None,\n     82                        __loader__ = loader,\n     83                        __package__ = pkg_name,\n     84                        __spec__ = mod_spec)\n---> 85     exec(code, run_globals)\n        code = <code object <module> at 0x7f479cb49390, file \"/...3.4/site-packages/ipykernel/__main__.py\", line 1>\n        run_globals = {'__builtins__': <module 'builtins' (built-in)>, '__cached__': '/home/ankur/miniconda3/envs/mlip/lib/python3.4/s...ges/ipykernel/__pycache__/__main__.cpython-34.pyc', '__doc__': None, '__file__': '/home/ankur/miniconda3/envs/mlip/lib/python3.4/site-packages/ipykernel/__main__.py', '__loader__': <_frozen_importlib.SourceFileLoader object>, '__name__': '__main__', '__package__': 'ipykernel', '__spec__': ModuleSpec(name='ipykernel.__main__', loader=<_f...b/python3.4/site-packages/ipykernel/__main__.py'), 'app': <module 'ipykernel.kernelapp' from '/home/ankur/.../python3.4/site-packages/ipykernel/kernelapp.py'>}\n     86     return run_globals\n     87 \n     88 def _run_module_code(code, init_globals=None,\n     89                     mod_name=None, mod_spec=None,\n\n...........................................................................\n/home/ankur/miniconda3/envs/mlip/lib/python3.4/site-packages/ipykernel/__main__.py in <module>()\n      1 \n      2 \n----> 3 \n      4 if __name__ == '__main__':\n      5     from ipykernel import kernelapp as app\n      6     app.launch_new_instance()\n      7 \n      8 \n      9 \n     10 \n\n...........................................................................\n/home/ankur/miniconda3/envs/mlip/lib/python3.4/site-packages/traitlets/config/application.py in launch_instance(cls=<class 'ipykernel.kernelapp.IPKernelApp'>, argv=None, **kwargs={})\n    653 \n    654         If a global instance already exists, this reinitializes and starts it\n    655         \"\"\"\n    656         app = cls.instance(**kwargs)\n    657         app.initialize(argv)\n--> 658         app.start()\n        app.start = <bound method IPKernelApp.start of <ipykernel.kernelapp.IPKernelApp object>>\n    659 \n    660 #-----------------------------------------------------------------------------\n    661 # utility functions, for convenience\n    662 #-----------------------------------------------------------------------------\n\n...........................................................................\n/home/ankur/miniconda3/envs/mlip/lib/python3.4/site-packages/ipykernel/kernelapp.py in start(self=<ipykernel.kernelapp.IPKernelApp object>)\n    469             return self.subapp.start()\n    470         if self.poller is not None:\n    471             self.poller.start()\n    472         self.kernel.start()\n    473         try:\n--> 474             ioloop.IOLoop.instance().start()\n    475         except KeyboardInterrupt:\n    476             pass\n    477 \n    478 launch_new_instance = IPKernelApp.launch_instance\n\n...........................................................................\n/home/ankur/miniconda3/envs/mlip/lib/python3.4/site-packages/zmq/eventloop/ioloop.py in start(self=<zmq.eventloop.ioloop.ZMQIOLoop object>)\n    172             )\n    173         return loop\n    174     \n    175     def start(self):\n    176         try:\n--> 177             super(ZMQIOLoop, self).start()\n        self.start = <bound method ZMQIOLoop.start of <zmq.eventloop.ioloop.ZMQIOLoop object>>\n    178         except ZMQError as e:\n    179             if e.errno == ETERM:\n    180                 # quietly return on ETERM\n    181                 pass\n\n...........................................................................\n/home/ankur/miniconda3/envs/mlip/lib/python3.4/site-packages/tornado/ioloop.py in start(self=<zmq.eventloop.ioloop.ZMQIOLoop object>)\n    882                 self._events.update(event_pairs)\n    883                 while self._events:\n    884                     fd, events = self._events.popitem()\n    885                     try:\n    886                         fd_obj, handler_func = self._handlers[fd]\n--> 887                         handler_func(fd_obj, events)\n        handler_func = <function wrap.<locals>.null_wrapper>\n        fd_obj = <zmq.sugar.socket.Socket object>\n        events = 1\n    888                     except (OSError, IOError) as e:\n    889                         if errno_from_exception(e) == errno.EPIPE:\n    890                             # Happens when the client closes the connection\n    891                             pass\n\n...........................................................................\n/home/ankur/miniconda3/envs/mlip/lib/python3.4/site-packages/tornado/stack_context.py in null_wrapper(*args=(<zmq.sugar.socket.Socket object>, 1), **kwargs={})\n    270         # Fast path when there are no active contexts.\n    271         def null_wrapper(*args, **kwargs):\n    272             try:\n    273                 current_state = _state.contexts\n    274                 _state.contexts = cap_contexts[0]\n--> 275                 return fn(*args, **kwargs)\n        args = (<zmq.sugar.socket.Socket object>, 1)\n        kwargs = {}\n    276             finally:\n    277                 _state.contexts = current_state\n    278         null_wrapper._wrapped = True\n    279         return null_wrapper\n\n...........................................................................\n/home/ankur/miniconda3/envs/mlip/lib/python3.4/site-packages/zmq/eventloop/zmqstream.py in _handle_events(self=<zmq.eventloop.zmqstream.ZMQStream object>, fd=<zmq.sugar.socket.Socket object>, events=1)\n    435             # dispatch events:\n    436             if events & IOLoop.ERROR:\n    437                 gen_log.error(\"got POLLERR event on ZMQStream, which doesn't make sense\")\n    438                 return\n    439             if events & IOLoop.READ:\n--> 440                 self._handle_recv()\n        self._handle_recv = <bound method ZMQStream._handle_recv of <zmq.eventloop.zmqstream.ZMQStream object>>\n    441                 if not self.socket:\n    442                     return\n    443             if events & IOLoop.WRITE:\n    444                 self._handle_send()\n\n...........................................................................\n/home/ankur/miniconda3/envs/mlip/lib/python3.4/site-packages/zmq/eventloop/zmqstream.py in _handle_recv(self=<zmq.eventloop.zmqstream.ZMQStream object>)\n    467                 gen_log.error(\"RECV Error: %s\"%zmq.strerror(e.errno))\n    468         else:\n    469             if self._recv_callback:\n    470                 callback = self._recv_callback\n    471                 # self._recv_callback = None\n--> 472                 self._run_callback(callback, msg)\n        self._run_callback = <bound method ZMQStream._run_callback of <zmq.eventloop.zmqstream.ZMQStream object>>\n        callback = <function wrap.<locals>.null_wrapper>\n        msg = [<zmq.sugar.frame.Frame object>, <zmq.sugar.frame.Frame object>, <zmq.sugar.frame.Frame object>, <zmq.sugar.frame.Frame object>, <zmq.sugar.frame.Frame object>, <zmq.sugar.frame.Frame object>, <zmq.sugar.frame.Frame object>]\n    473                 \n    474         # self.update_state()\n    475         \n    476 \n\n...........................................................................\n/home/ankur/miniconda3/envs/mlip/lib/python3.4/site-packages/zmq/eventloop/zmqstream.py in _run_callback(self=<zmq.eventloop.zmqstream.ZMQStream object>, callback=<function wrap.<locals>.null_wrapper>, *args=([<zmq.sugar.frame.Frame object>, <zmq.sugar.frame.Frame object>, <zmq.sugar.frame.Frame object>, <zmq.sugar.frame.Frame object>, <zmq.sugar.frame.Frame object>, <zmq.sugar.frame.Frame object>, <zmq.sugar.frame.Frame object>],), **kwargs={})\n    409         close our socket.\"\"\"\n    410         try:\n    411             # Use a NullContext to ensure that all StackContexts are run\n    412             # inside our blanket exception handler rather than outside.\n    413             with stack_context.NullContext():\n--> 414                 callback(*args, **kwargs)\n        callback = <function wrap.<locals>.null_wrapper>\n        args = ([<zmq.sugar.frame.Frame object>, <zmq.sugar.frame.Frame object>, <zmq.sugar.frame.Frame object>, <zmq.sugar.frame.Frame object>, <zmq.sugar.frame.Frame object>, <zmq.sugar.frame.Frame object>, <zmq.sugar.frame.Frame object>],)\n        kwargs = {}\n    415         except:\n    416             gen_log.error(\"Uncaught exception, closing connection.\",\n    417                           exc_info=True)\n    418             # Close the socket on an uncaught exception from a user callback\n\n...........................................................................\n/home/ankur/miniconda3/envs/mlip/lib/python3.4/site-packages/tornado/stack_context.py in null_wrapper(*args=([<zmq.sugar.frame.Frame object>, <zmq.sugar.frame.Frame object>, <zmq.sugar.frame.Frame object>, <zmq.sugar.frame.Frame object>, <zmq.sugar.frame.Frame object>, <zmq.sugar.frame.Frame object>, <zmq.sugar.frame.Frame object>],), **kwargs={})\n    270         # Fast path when there are no active contexts.\n    271         def null_wrapper(*args, **kwargs):\n    272             try:\n    273                 current_state = _state.contexts\n    274                 _state.contexts = cap_contexts[0]\n--> 275                 return fn(*args, **kwargs)\n        args = ([<zmq.sugar.frame.Frame object>, <zmq.sugar.frame.Frame object>, <zmq.sugar.frame.Frame object>, <zmq.sugar.frame.Frame object>, <zmq.sugar.frame.Frame object>, <zmq.sugar.frame.Frame object>, <zmq.sugar.frame.Frame object>],)\n        kwargs = {}\n    276             finally:\n    277                 _state.contexts = current_state\n    278         null_wrapper._wrapped = True\n    279         return null_wrapper\n\n...........................................................................\n/home/ankur/miniconda3/envs/mlip/lib/python3.4/site-packages/ipykernel/kernelbase.py in dispatcher(msg=[<zmq.sugar.frame.Frame object>, <zmq.sugar.frame.Frame object>, <zmq.sugar.frame.Frame object>, <zmq.sugar.frame.Frame object>, <zmq.sugar.frame.Frame object>, <zmq.sugar.frame.Frame object>, <zmq.sugar.frame.Frame object>])\n    271         if self.control_stream:\n    272             self.control_stream.on_recv(self.dispatch_control, copy=False)\n    273 \n    274         def make_dispatcher(stream):\n    275             def dispatcher(msg):\n--> 276                 return self.dispatch_shell(stream, msg)\n        msg = [<zmq.sugar.frame.Frame object>, <zmq.sugar.frame.Frame object>, <zmq.sugar.frame.Frame object>, <zmq.sugar.frame.Frame object>, <zmq.sugar.frame.Frame object>, <zmq.sugar.frame.Frame object>, <zmq.sugar.frame.Frame object>]\n    277             return dispatcher\n    278 \n    279         for s in self.shell_streams:\n    280             s.on_recv(make_dispatcher(s), copy=False)\n\n...........................................................................\n/home/ankur/miniconda3/envs/mlip/lib/python3.4/site-packages/ipykernel/kernelbase.py in dispatch_shell(self=<ipykernel.ipkernel.IPythonKernel object>, stream=<zmq.eventloop.zmqstream.ZMQStream object>, msg={'buffers': [], 'content': {'allow_stdin': True, 'code': \"batch_gen_apect = BatchGenerator(train_json='tra...ch_y.shape)\\n    i+=1\\n    if i > 50:\\n        break\", 'silent': False, 'stop_on_error': True, 'store_history': True, 'user_expressions': {}}, 'header': {'date': '2018-05-07T07:34:50.516817', 'msg_id': '324D584A540A47AC9A3B0CB781DDD105', 'msg_type': 'execute_request', 'session': '39619039120840C289A97A6AE4186CF3', 'username': 'username', 'version': '5.0'}, 'metadata': {}, 'msg_id': '324D584A540A47AC9A3B0CB781DDD105', 'msg_type': 'execute_request', 'parent_header': {}})\n    223             self.log.error(\"UNKNOWN MESSAGE TYPE: %r\", msg_type)\n    224         else:\n    225             self.log.debug(\"%s: %s\", msg_type, msg)\n    226             self.pre_handler_hook()\n    227             try:\n--> 228                 handler(stream, idents, msg)\n        handler = <bound method IPythonKernel.execute_request of <ipykernel.ipkernel.IPythonKernel object>>\n        stream = <zmq.eventloop.zmqstream.ZMQStream object>\n        idents = [b'39619039120840C289A97A6AE4186CF3']\n        msg = {'buffers': [], 'content': {'allow_stdin': True, 'code': \"batch_gen_apect = BatchGenerator(train_json='tra...ch_y.shape)\\n    i+=1\\n    if i > 50:\\n        break\", 'silent': False, 'stop_on_error': True, 'store_history': True, 'user_expressions': {}}, 'header': {'date': '2018-05-07T07:34:50.516817', 'msg_id': '324D584A540A47AC9A3B0CB781DDD105', 'msg_type': 'execute_request', 'session': '39619039120840C289A97A6AE4186CF3', 'username': 'username', 'version': '5.0'}, 'metadata': {}, 'msg_id': '324D584A540A47AC9A3B0CB781DDD105', 'msg_type': 'execute_request', 'parent_header': {}}\n    229             except Exception:\n    230                 self.log.error(\"Exception in message handler:\", exc_info=True)\n    231             finally:\n    232                 self.post_handler_hook()\n\n...........................................................................\n/home/ankur/miniconda3/envs/mlip/lib/python3.4/site-packages/ipykernel/kernelbase.py in execute_request(self=<ipykernel.ipkernel.IPythonKernel object>, stream=<zmq.eventloop.zmqstream.ZMQStream object>, ident=[b'39619039120840C289A97A6AE4186CF3'], parent={'buffers': [], 'content': {'allow_stdin': True, 'code': \"batch_gen_apect = BatchGenerator(train_json='tra...ch_y.shape)\\n    i+=1\\n    if i > 50:\\n        break\", 'silent': False, 'stop_on_error': True, 'store_history': True, 'user_expressions': {}}, 'header': {'date': '2018-05-07T07:34:50.516817', 'msg_id': '324D584A540A47AC9A3B0CB781DDD105', 'msg_type': 'execute_request', 'session': '39619039120840C289A97A6AE4186CF3', 'username': 'username', 'version': '5.0'}, 'metadata': {}, 'msg_id': '324D584A540A47AC9A3B0CB781DDD105', 'msg_type': 'execute_request', 'parent_header': {}})\n    385         if not silent:\n    386             self.execution_count += 1\n    387             self._publish_execute_input(code, parent, self.execution_count)\n    388 \n    389         reply_content = self.do_execute(code, silent, store_history,\n--> 390                                         user_expressions, allow_stdin)\n        user_expressions = {}\n        allow_stdin = True\n    391 \n    392         # Flush output before sending the reply.\n    393         sys.stdout.flush()\n    394         sys.stderr.flush()\n\n...........................................................................\n/home/ankur/miniconda3/envs/mlip/lib/python3.4/site-packages/ipykernel/ipkernel.py in do_execute(self=<ipykernel.ipkernel.IPythonKernel object>, code=\"batch_gen_apect = BatchGenerator(train_json='tra...ch_y.shape)\\n    i+=1\\n    if i > 50:\\n        break\", silent=False, store_history=True, user_expressions={}, allow_stdin=True)\n    191 \n    192         self._forward_input(allow_stdin)\n    193 \n    194         reply_content = {}\n    195         try:\n--> 196             res = shell.run_cell(code, store_history=store_history, silent=silent)\n        res = undefined\n        shell.run_cell = <bound method ZMQInteractiveShell.run_cell of <ipykernel.zmqshell.ZMQInteractiveShell object>>\n        code = \"batch_gen_apect = BatchGenerator(train_json='tra...ch_y.shape)\\n    i+=1\\n    if i > 50:\\n        break\"\n        store_history = True\n        silent = False\n    197         finally:\n    198             self._restore_input()\n    199 \n    200         if res.error_before_exec is not None:\n\n...........................................................................\n/home/ankur/miniconda3/envs/mlip/lib/python3.4/site-packages/ipykernel/zmqshell.py in run_cell(self=<ipykernel.zmqshell.ZMQInteractiveShell object>, *args=(\"batch_gen_apect = BatchGenerator(train_json='tra...ch_y.shape)\\n    i+=1\\n    if i > 50:\\n        break\",), **kwargs={'silent': False, 'store_history': True})\n    496             )\n    497         self.payload_manager.write_payload(payload)\n    498 \n    499     def run_cell(self, *args, **kwargs):\n    500         self._last_traceback = None\n--> 501         return super(ZMQInteractiveShell, self).run_cell(*args, **kwargs)\n        self.run_cell = <bound method ZMQInteractiveShell.run_cell of <ipykernel.zmqshell.ZMQInteractiveShell object>>\n        args = (\"batch_gen_apect = BatchGenerator(train_json='tra...ch_y.shape)\\n    i+=1\\n    if i > 50:\\n        break\",)\n        kwargs = {'silent': False, 'store_history': True}\n    502 \n    503     def _showtraceback(self, etype, evalue, stb):\n    504         # try to preserve ordering of tracebacks and print statements\n    505         sys.stdout.flush()\n\n...........................................................................\n/home/ankur/miniconda3/envs/mlip/lib/python3.4/site-packages/IPython/core/interactiveshell.py in run_cell(self=<ipykernel.zmqshell.ZMQInteractiveShell object>, raw_cell=\"batch_gen_apect = BatchGenerator(train_json='tra...ch_y.shape)\\n    i+=1\\n    if i > 50:\\n        break\", store_history=True, silent=False, shell_futures=True)\n   2712                 self.displayhook.exec_result = result\n   2713 \n   2714                 # Execute the user code\n   2715                 interactivity = \"none\" if silent else self.ast_node_interactivity\n   2716                 has_raised = self.run_ast_nodes(code_ast.body, cell_name,\n-> 2717                    interactivity=interactivity, compiler=compiler, result=result)\n        interactivity = 'last_expr'\n        compiler = <IPython.core.compilerop.CachingCompiler object>\n   2718                 \n   2719                 self.last_execution_succeeded = not has_raised\n   2720 \n   2721                 # Reset this so later displayed values do not modify the\n\n...........................................................................\n/home/ankur/miniconda3/envs/mlip/lib/python3.4/site-packages/IPython/core/interactiveshell.py in run_ast_nodes(self=<ipykernel.zmqshell.ZMQInteractiveShell object>, nodelist=[<_ast.Assign object>, <_ast.Assign object>, <_ast.Assign object>, <_ast.Assign object>, <_ast.Assign object>, <_ast.For object>], cell_name='<ipython-input-35-dbfa9a551eac>', interactivity='none', compiler=<IPython.core.compilerop.CachingCompiler object>, result=<ExecutionResult object at 7f47726c2d68, executi..._before_exec=None error_in_exec=None result=None>)\n   2816 \n   2817         try:\n   2818             for i, node in enumerate(to_run_exec):\n   2819                 mod = ast.Module([node])\n   2820                 code = compiler(mod, cell_name, \"exec\")\n-> 2821                 if self.run_code(code, result):\n        self.run_code = <bound method ZMQInteractiveShell.run_code of <ipykernel.zmqshell.ZMQInteractiveShell object>>\n        code = <code object <module> at 0x7f4762a70db0, file \"<ipython-input-35-dbfa9a551eac>\", line 14>\n        result = <ExecutionResult object at 7f47726c2d68, executi..._before_exec=None error_in_exec=None result=None>\n   2822                     return True\n   2823 \n   2824             for i, node in enumerate(to_run_interactive):\n   2825                 mod = ast.Interactive([node])\n\n...........................................................................\n/home/ankur/miniconda3/envs/mlip/lib/python3.4/site-packages/IPython/core/interactiveshell.py in run_code(self=<ipykernel.zmqshell.ZMQInteractiveShell object>, code_obj=<code object <module> at 0x7f4762a70db0, file \"<ipython-input-35-dbfa9a551eac>\", line 14>, result=<ExecutionResult object at 7f47726c2d68, executi..._before_exec=None error_in_exec=None result=None>)\n   2876         outflag = 1  # happens in more places, so it's easier as default\n   2877         try:\n   2878             try:\n   2879                 self.hooks.pre_run_code_hook()\n   2880                 #rprint('Running code', repr(code_obj)) # dbg\n-> 2881                 exec(code_obj, self.user_global_ns, self.user_ns)\n        code_obj = <code object <module> at 0x7f4762a70db0, file \"<ipython-input-35-dbfa9a551eac>\", line 14>\n        self.user_global_ns = {'BatchGenerator': <class '__main__.BatchGenerator'>, 'Image': <module 'PIL.Image' from '/home/ankur/miniconda3...s/mlip/lib/python3.4/site-packages/PIL/Image.py'>, 'In': ['', \"## Imports\\nimport os\\nimport json\\nfrom collection...delayed\\n\\nget_ipython().magic('matplotlib inline')\", \"## Global variables\\ntrain_json = 'train.json'\\ntrain_path = 'train/'\", 'class BatchGenerator:\\n    def __init__(self, tra....n_jobs)\\n                yield (X_batch, y_batch)', 'class BatchGenerator:\\n    def __init__(self, tra....n_jobs)\\n                yield (X_batch, y_batch)', \"batch_gen = BatchGenerator(train_json='train.jso... batch_gen.__iter__()\\n    print(X.shape, y.shape)\", 'class BatchGenerator:\\n    def __init__(self, tra....n_jobs)\\n                yield (X_batch, y_batch)', 'class BatchGenerator:\\n    def __init__(self, tra...n_jobs)\\n                return (X_batch, y_batch)', 'import gc; gc.collect()', \"batch_gen = BatchGenerator(train_json='train.jso... batch_gen.__iter__()\\n    print(X.shape, y.shape)\", 'class BatchGenerator:\\n    def __init__(self, tra...n_jobs)\\n                return (X_batch, y_batch)', 'class BatchGenerator:\\n    def __init__(self, tra...n_jobs)\\n                return (X_batch, y_batch)', 'import gc; gc.collect()', \"batch_gen = BatchGenerator(train_json='train.jso... batch_gen.__iter__()\\n    print(X.shape, y.shape)\", 'class BatchGenerator:\\n    def __init__(self, tra...n_jobs)\\n                return (X_batch, y_batch)', 'import gc; gc.collect()', \"batch_gen = BatchGenerator(train_json='train.jso... batch_gen.__iter__()\\n    print(X.shape, y.shape)\", \"batch_gen = BatchGenerator(train_json='train.jso...batch_x.shape)\\n    print(batch_y.shape)\\n    break\", 'class BatchGenerator:\\n    def __init__(self, tra...n_jobs)\\n                return (X_batch, y_batch)', 'import gc; gc.collect()', ...], 'MultiLabelBinarizer': <class 'sklearn.preprocessing.label.MultiLabelBinarizer'>, 'Out': {8: 82, 12: 175, 15: 145, 19: 342, 23: 196, 29: 439, 33: 323}, 'PIL': <module 'PIL' from '/home/ankur/miniconda3/envs/mlip/lib/python3.4/site-packages/PIL/__init__.py'>, 'Parallel': <class 'joblib.parallel.Parallel'>, '_': 323, '_12': 175, '_15': 145, ...}\n        self.user_ns = {'BatchGenerator': <class '__main__.BatchGenerator'>, 'Image': <module 'PIL.Image' from '/home/ankur/miniconda3...s/mlip/lib/python3.4/site-packages/PIL/Image.py'>, 'In': ['', \"## Imports\\nimport os\\nimport json\\nfrom collection...delayed\\n\\nget_ipython().magic('matplotlib inline')\", \"## Global variables\\ntrain_json = 'train.json'\\ntrain_path = 'train/'\", 'class BatchGenerator:\\n    def __init__(self, tra....n_jobs)\\n                yield (X_batch, y_batch)', 'class BatchGenerator:\\n    def __init__(self, tra....n_jobs)\\n                yield (X_batch, y_batch)', \"batch_gen = BatchGenerator(train_json='train.jso... batch_gen.__iter__()\\n    print(X.shape, y.shape)\", 'class BatchGenerator:\\n    def __init__(self, tra....n_jobs)\\n                yield (X_batch, y_batch)', 'class BatchGenerator:\\n    def __init__(self, tra...n_jobs)\\n                return (X_batch, y_batch)', 'import gc; gc.collect()', \"batch_gen = BatchGenerator(train_json='train.jso... batch_gen.__iter__()\\n    print(X.shape, y.shape)\", 'class BatchGenerator:\\n    def __init__(self, tra...n_jobs)\\n                return (X_batch, y_batch)', 'class BatchGenerator:\\n    def __init__(self, tra...n_jobs)\\n                return (X_batch, y_batch)', 'import gc; gc.collect()', \"batch_gen = BatchGenerator(train_json='train.jso... batch_gen.__iter__()\\n    print(X.shape, y.shape)\", 'class BatchGenerator:\\n    def __init__(self, tra...n_jobs)\\n                return (X_batch, y_batch)', 'import gc; gc.collect()', \"batch_gen = BatchGenerator(train_json='train.jso... batch_gen.__iter__()\\n    print(X.shape, y.shape)\", \"batch_gen = BatchGenerator(train_json='train.jso...batch_x.shape)\\n    print(batch_y.shape)\\n    break\", 'class BatchGenerator:\\n    def __init__(self, tra...n_jobs)\\n                return (X_batch, y_batch)', 'import gc; gc.collect()', ...], 'MultiLabelBinarizer': <class 'sklearn.preprocessing.label.MultiLabelBinarizer'>, 'Out': {8: 82, 12: 175, 15: 145, 19: 342, 23: 196, 29: 439, 33: 323}, 'PIL': <module 'PIL' from '/home/ankur/miniconda3/envs/mlip/lib/python3.4/site-packages/PIL/__init__.py'>, 'Parallel': <class 'joblib.parallel.Parallel'>, '_': 323, '_12': 175, '_15': 145, ...}\n   2882             finally:\n   2883                 # Reset our crash handler in place\n   2884                 sys.excepthook = old_excepthook\n   2885         except SystemExit as e:\n\n...........................................................................\n/home/ankur/kaggle/fashion/<ipython-input-35-dbfa9a551eac> in <module>()\n      9 batch_get_standard = BatchGenerator(train_json='train.json', train_path='train/', df='df_final.csv',\n     10                                        size=None, a_ratio=None, batch_size=32, n_jobs=-1)\n     11 \n     12 \n     13 i = 0\n---> 14 for batch_x, batch_y in batch_get_standard:\n     15     print(batch_x.shape)\n     16     print(batch_y.shape)\n     17     i+=1\n     18     if i > 50:\n\n...........................................................................\n/home/ankur/kaggle/fashion/<ipython-input-32-5b9cd6b2d539> in __next__(self=<__main__.BatchGenerator object>)\n     57     \n     58     def __iter__(self):\n     59         return self\n     60 \n     61     def __next__(self):\n---> 62         return self.next()\n     63 \n     64     def __len__(self):\n     65         # Provide length in number of batches\n     66         return self.n_batches\n\n...........................................................................\n/home/ankur/kaggle/fashion/<ipython-input-32-5b9cd6b2d539> in next(self=<__main__.BatchGenerator object>)\n    114                 return (X_batch, y_batch)\n    115         else:\n    116             while True:\n    117                 df_select = self.df.sample(self.batch_size, replace=True)\n    118                 X_batch, y_batch = self.create_batch(df_select, resize=True,\n--> 119                                                      image_size=(299, 299), n_jobs=self.n_jobs)\n    120                 return (X_batch, y_batch)\n    121 \n    122 \n    123 \n\n...........................................................................\n/home/ankur/kaggle/fashion/<ipython-input-32-5b9cd6b2d539> in create_batch(self=<__main__.BatchGenerator object>, df=      Unnamed: 0  1  10  100  101  102  103  104...600  600      1.000000  \n\n[32 rows x 232 columns], resize=True, image_size=(299, 299), n_jobs=-1)\n     86         \"\"\"\n     87         image_ids = df.index\n     88         y = df.drop(['x', 'y', 'aspect_ratio'], axis=1).values\n     89         \n     90         # Load images and resize them\n---> 91         X = Parallel(n_jobs=n_jobs)(delayed(self.resize)(img_id, image_size) for img_id in image_ids)\n     92 #         X = [self.resize(img_id, image_size) for img_id in image_ids]\n     93         return np.array(X), y\n     94     \n     95     def next(self):\n\n...........................................................................\n/home/ankur/miniconda3/envs/mlip/lib/python3.4/site-packages/joblib/parallel.py in __call__(self=Parallel(n_jobs=-1), iterable=<generator object <genexpr>>)\n    805             if pre_dispatch == \"all\" or n_jobs == 1:\n    806                 # The iterable was consumed all at once by the above for loop.\n    807                 # No need to wait for async callbacks to trigger to\n    808                 # consumption.\n    809                 self._iterating = False\n--> 810             self.retrieve()\n        self.retrieve = <bound method Parallel.retrieve of Parallel(n_jobs=-1)>\n    811             # Make sure that we get a last message telling us we are done\n    812             elapsed_time = time.time() - self._start_time\n    813             self._print('Done %3i out of %3i | elapsed: %s finished',\n    814                         (len(self._output), len(self._output),\n\n---------------------------------------------------------------------------\nSub-process traceback:\n---------------------------------------------------------------------------\nUnboundLocalError                                  Mon May  7 07:35:26 2018\nPID: 12063        Python 3.4.5: /home/ankur/miniconda3/envs/mlip/bin/python\n...........................................................................\n/home/ankur/miniconda3/envs/mlip/lib/python3.4/site-packages/joblib/parallel.py in __call__(self=<joblib.parallel.BatchedCalls object>)\n     67     def __init__(self, iterator_slice):\n     68         self.items = list(iterator_slice)\n     69         self._size = len(self.items)\n     70 \n     71     def __call__(self):\n---> 72         return [func(*args, **kwargs) for func, args, kwargs in self.items]\n        self.items = [(<bound method BatchGenerator.resize of <__main__.BatchGenerator object>>, (5664, (299, 299)), {}), (<bound method BatchGenerator.resize of <__main__.BatchGenerator object>>, (0, (299, 299)), {})]\n     73 \n     74     def __len__(self):\n     75         return self._size\n     76 \n\n...........................................................................\n/home/ankur/miniconda3/envs/mlip/lib/python3.4/site-packages/joblib/parallel.py in <listcomp>(.0=<list_iterator object>)\n     67     def __init__(self, iterator_slice):\n     68         self.items = list(iterator_slice)\n     69         self._size = len(self.items)\n     70 \n     71     def __call__(self):\n---> 72         return [func(*args, **kwargs) for func, args, kwargs in self.items]\n        func = <bound method BatchGenerator.resize of <__main__.BatchGenerator object>>\n        args = (0, (299, 299))\n        kwargs = {}\n     73 \n     74     def __len__(self):\n     75         return self._size\n     76 \n\n...........................................................................\n/home/ankur/kaggle/fashion/<ipython-input-32-5b9cd6b2d539> in resize(self=<__main__.BatchGenerator object>, img_id=0, image_size=(299, 299), resample=1)\n     72         try:\n     73             img = Image.open(os.path.join(self.train_path, str(img_id) + '.jpg'))\n     74         except OSError:\n     75             print(\"Couldn't load image: \", str(img_id)+'.jpg')\n     76         \n---> 77         return np.array(img.resize(image_size, resample=resample))\n     78     \n     79     def create_batch(self, df, resize=False, image_size=(299, 299), n_jobs=-1):\n     80         \"\"\"\n     81         Creates a batch from given df by loading the image files.\n\nUnboundLocalError: local variable 'img' referenced before assignment\n___________________________________________________________________________",
     "output_type": "error",
     "traceback": [
      "\u001b[0;31m---------------------------------------------------------------------------\u001b[0m",
      "\u001b[0;31mRemoteTraceback\u001b[0m                           Traceback (most recent call last)",
      "\u001b[0;31mRemoteTraceback\u001b[0m: \n\"\"\"\nTraceback (most recent call last):\n  File \"/home/ankur/miniconda3/envs/mlip/lib/python3.4/site-packages/joblib/parallel.py\", line 130, in __call__\n    return self.func(*args, **kwargs)\n  File \"/home/ankur/miniconda3/envs/mlip/lib/python3.4/site-packages/joblib/parallel.py\", line 72, in __call__\n    return [func(*args, **kwargs) for func, args, kwargs in self.items]\n  File \"/home/ankur/miniconda3/envs/mlip/lib/python3.4/site-packages/joblib/parallel.py\", line 72, in <listcomp>\n    return [func(*args, **kwargs) for func, args, kwargs in self.items]\n  File \"<ipython-input-32-5b9cd6b2d539>\", line 77, in resize\n    return np.array(img.resize(image_size, resample=resample))\nUnboundLocalError: local variable 'img' referenced before assignment\n\nDuring handling of the above exception, another exception occurred:\n\nTraceback (most recent call last):\n  File \"/home/ankur/miniconda3/envs/mlip/lib/python3.4/multiprocessing/pool.py\", line 119, in worker\n    result = (True, func(*args, **kwds))\n  File \"/home/ankur/miniconda3/envs/mlip/lib/python3.4/site-packages/joblib/parallel.py\", line 140, in __call__\n    raise TransportableException(text, e_type)\njoblib.my_exceptions.TransportableException: TransportableException\n___________________________________________________________________________\nUnboundLocalError                                  Mon May  7 07:35:26 2018\nPID: 12063        Python 3.4.5: /home/ankur/miniconda3/envs/mlip/bin/python\n...........................................................................\n/home/ankur/miniconda3/envs/mlip/lib/python3.4/site-packages/joblib/parallel.py in __call__(self=<joblib.parallel.BatchedCalls object>)\n     67     def __init__(self, iterator_slice):\n     68         self.items = list(iterator_slice)\n     69         self._size = len(self.items)\n     70 \n     71     def __call__(self):\n---> 72         return [func(*args, **kwargs) for func, args, kwargs in self.items]\n        self.items = [(<bound method BatchGenerator.resize of <__main__.BatchGenerator object>>, (5664, (299, 299)), {}), (<bound method BatchGenerator.resize of <__main__.BatchGenerator object>>, (0, (299, 299)), {})]\n     73 \n     74     def __len__(self):\n     75         return self._size\n     76 \n\n...........................................................................\n/home/ankur/miniconda3/envs/mlip/lib/python3.4/site-packages/joblib/parallel.py in <listcomp>(.0=<list_iterator object>)\n     67     def __init__(self, iterator_slice):\n     68         self.items = list(iterator_slice)\n     69         self._size = len(self.items)\n     70 \n     71     def __call__(self):\n---> 72         return [func(*args, **kwargs) for func, args, kwargs in self.items]\n        func = <bound method BatchGenerator.resize of <__main__.BatchGenerator object>>\n        args = (0, (299, 299))\n        kwargs = {}\n     73 \n     74     def __len__(self):\n     75         return self._size\n     76 \n\n...........................................................................\n/home/ankur/kaggle/fashion/<ipython-input-32-5b9cd6b2d539> in resize(self=<__main__.BatchGenerator object>, img_id=0, image_size=(299, 299), resample=1)\n     72         try:\n     73             img = Image.open(os.path.join(self.train_path, str(img_id) + '.jpg'))\n     74         except OSError:\n     75             print(\"Couldn't load image: \", str(img_id)+'.jpg')\n     76         \n---> 77         return np.array(img.resize(image_size, resample=resample))\n     78     \n     79     def create_batch(self, df, resize=False, image_size=(299, 299), n_jobs=-1):\n     80         \"\"\"\n     81         Creates a batch from given df by loading the image files.\n\nUnboundLocalError: local variable 'img' referenced before assignment\n___________________________________________________________________________\n\"\"\"",
      "\nThe above exception was the direct cause of the following exception:\n",
      "\u001b[0;31mTransportableException\u001b[0m                    Traceback (most recent call last)",
      "\u001b[0;32m/home/ankur/miniconda3/envs/mlip/lib/python3.4/site-packages/joblib/parallel.py\u001b[0m in \u001b[0;36mretrieve\u001b[0;34m(self)\u001b[0m\n\u001b[1;32m    726\u001b[0m             \u001b[0;32mtry\u001b[0m\u001b[0;34m:\u001b[0m\u001b[0;34m\u001b[0m\u001b[0m\n\u001b[0;32m--> 727\u001b[0;31m                 \u001b[0mself\u001b[0m\u001b[0;34m.\u001b[0m\u001b[0m_output\u001b[0m\u001b[0;34m.\u001b[0m\u001b[0mextend\u001b[0m\u001b[0;34m(\u001b[0m\u001b[0mjob\u001b[0m\u001b[0;34m.\u001b[0m\u001b[0mget\u001b[0m\u001b[0;34m(\u001b[0m\u001b[0;34m)\u001b[0m\u001b[0;34m)\u001b[0m\u001b[0;34m\u001b[0m\u001b[0m\n\u001b[0m\u001b[1;32m    728\u001b[0m             \u001b[0;32mexcept\u001b[0m \u001b[0mtuple\u001b[0m\u001b[0;34m(\u001b[0m\u001b[0mself\u001b[0m\u001b[0;34m.\u001b[0m\u001b[0mexceptions\u001b[0m\u001b[0;34m)\u001b[0m \u001b[0;32mas\u001b[0m \u001b[0mexception\u001b[0m\u001b[0;34m:\u001b[0m\u001b[0;34m\u001b[0m\u001b[0m\n",
      "\u001b[0;32m/home/ankur/miniconda3/envs/mlip/lib/python3.4/multiprocessing/pool.py\u001b[0m in \u001b[0;36mget\u001b[0;34m(self, timeout)\u001b[0m\n\u001b[1;32m    607\u001b[0m         \u001b[0;32melse\u001b[0m\u001b[0;34m:\u001b[0m\u001b[0;34m\u001b[0m\u001b[0m\n\u001b[0;32m--> 608\u001b[0;31m             \u001b[0;32mraise\u001b[0m \u001b[0mself\u001b[0m\u001b[0;34m.\u001b[0m\u001b[0m_value\u001b[0m\u001b[0;34m\u001b[0m\u001b[0m\n\u001b[0m\u001b[1;32m    609\u001b[0m \u001b[0;34m\u001b[0m\u001b[0m\n",
      "\u001b[0;31mTransportableException\u001b[0m: TransportableException\n___________________________________________________________________________\nUnboundLocalError                                  Mon May  7 07:35:26 2018\nPID: 12063        Python 3.4.5: /home/ankur/miniconda3/envs/mlip/bin/python\n...........................................................................\n/home/ankur/miniconda3/envs/mlip/lib/python3.4/site-packages/joblib/parallel.py in __call__(self=<joblib.parallel.BatchedCalls object>)\n     67     def __init__(self, iterator_slice):\n     68         self.items = list(iterator_slice)\n     69         self._size = len(self.items)\n     70 \n     71     def __call__(self):\n---> 72         return [func(*args, **kwargs) for func, args, kwargs in self.items]\n        self.items = [(<bound method BatchGenerator.resize of <__main__.BatchGenerator object>>, (5664, (299, 299)), {}), (<bound method BatchGenerator.resize of <__main__.BatchGenerator object>>, (0, (299, 299)), {})]\n     73 \n     74     def __len__(self):\n     75         return self._size\n     76 \n\n...........................................................................\n/home/ankur/miniconda3/envs/mlip/lib/python3.4/site-packages/joblib/parallel.py in <listcomp>(.0=<list_iterator object>)\n     67     def __init__(self, iterator_slice):\n     68         self.items = list(iterator_slice)\n     69         self._size = len(self.items)\n     70 \n     71     def __call__(self):\n---> 72         return [func(*args, **kwargs) for func, args, kwargs in self.items]\n        func = <bound method BatchGenerator.resize of <__main__.BatchGenerator object>>\n        args = (0, (299, 299))\n        kwargs = {}\n     73 \n     74     def __len__(self):\n     75         return self._size\n     76 \n\n...........................................................................\n/home/ankur/kaggle/fashion/<ipython-input-32-5b9cd6b2d539> in resize(self=<__main__.BatchGenerator object>, img_id=0, image_size=(299, 299), resample=1)\n     72         try:\n     73             img = Image.open(os.path.join(self.train_path, str(img_id) + '.jpg'))\n     74         except OSError:\n     75             print(\"Couldn't load image: \", str(img_id)+'.jpg')\n     76         \n---> 77         return np.array(img.resize(image_size, resample=resample))\n     78     \n     79     def create_batch(self, df, resize=False, image_size=(299, 299), n_jobs=-1):\n     80         \"\"\"\n     81         Creates a batch from given df by loading the image files.\n\nUnboundLocalError: local variable 'img' referenced before assignment\n___________________________________________________________________________",
      "\nDuring handling of the above exception, another exception occurred:\n",
      "\u001b[0;31mJoblibUnboundLocalError\u001b[0m                   Traceback (most recent call last)",
      "\u001b[0;32m<ipython-input-35-dbfa9a551eac>\u001b[0m in \u001b[0;36m<module>\u001b[0;34m()\u001b[0m\n\u001b[1;32m     12\u001b[0m \u001b[0;34m\u001b[0m\u001b[0m\n\u001b[1;32m     13\u001b[0m \u001b[0mi\u001b[0m \u001b[0;34m=\u001b[0m \u001b[0;36m0\u001b[0m\u001b[0;34m\u001b[0m\u001b[0m\n\u001b[0;32m---> 14\u001b[0;31m \u001b[0;32mfor\u001b[0m \u001b[0mbatch_x\u001b[0m\u001b[0;34m,\u001b[0m \u001b[0mbatch_y\u001b[0m \u001b[0;32min\u001b[0m \u001b[0mbatch_get_standard\u001b[0m\u001b[0;34m:\u001b[0m\u001b[0;34m\u001b[0m\u001b[0m\n\u001b[0m\u001b[1;32m     15\u001b[0m     \u001b[0mprint\u001b[0m\u001b[0;34m(\u001b[0m\u001b[0mbatch_x\u001b[0m\u001b[0;34m.\u001b[0m\u001b[0mshape\u001b[0m\u001b[0;34m)\u001b[0m\u001b[0;34m\u001b[0m\u001b[0m\n\u001b[1;32m     16\u001b[0m     \u001b[0mprint\u001b[0m\u001b[0;34m(\u001b[0m\u001b[0mbatch_y\u001b[0m\u001b[0;34m.\u001b[0m\u001b[0mshape\u001b[0m\u001b[0;34m)\u001b[0m\u001b[0;34m\u001b[0m\u001b[0m\n",
      "\u001b[0;32m<ipython-input-32-5b9cd6b2d539>\u001b[0m in \u001b[0;36m__next__\u001b[0;34m(self)\u001b[0m\n\u001b[1;32m     60\u001b[0m \u001b[0;34m\u001b[0m\u001b[0m\n\u001b[1;32m     61\u001b[0m     \u001b[0;32mdef\u001b[0m \u001b[0m__next__\u001b[0m\u001b[0;34m(\u001b[0m\u001b[0mself\u001b[0m\u001b[0;34m)\u001b[0m\u001b[0;34m:\u001b[0m\u001b[0;34m\u001b[0m\u001b[0m\n\u001b[0;32m---> 62\u001b[0;31m         \u001b[0;32mreturn\u001b[0m \u001b[0mself\u001b[0m\u001b[0;34m.\u001b[0m\u001b[0mnext\u001b[0m\u001b[0;34m(\u001b[0m\u001b[0;34m)\u001b[0m\u001b[0;34m\u001b[0m\u001b[0m\n\u001b[0m\u001b[1;32m     63\u001b[0m \u001b[0;34m\u001b[0m\u001b[0m\n\u001b[1;32m     64\u001b[0m     \u001b[0;32mdef\u001b[0m \u001b[0m__len__\u001b[0m\u001b[0;34m(\u001b[0m\u001b[0mself\u001b[0m\u001b[0;34m)\u001b[0m\u001b[0;34m:\u001b[0m\u001b[0;34m\u001b[0m\u001b[0m\n",
      "\u001b[0;32m<ipython-input-32-5b9cd6b2d539>\u001b[0m in \u001b[0;36mnext\u001b[0;34m(self)\u001b[0m\n\u001b[1;32m    117\u001b[0m                 \u001b[0mdf_select\u001b[0m \u001b[0;34m=\u001b[0m \u001b[0mself\u001b[0m\u001b[0;34m.\u001b[0m\u001b[0mdf\u001b[0m\u001b[0;34m.\u001b[0m\u001b[0msample\u001b[0m\u001b[0;34m(\u001b[0m\u001b[0mself\u001b[0m\u001b[0;34m.\u001b[0m\u001b[0mbatch_size\u001b[0m\u001b[0;34m,\u001b[0m \u001b[0mreplace\u001b[0m\u001b[0;34m=\u001b[0m\u001b[0;32mTrue\u001b[0m\u001b[0;34m)\u001b[0m\u001b[0;34m\u001b[0m\u001b[0m\n\u001b[1;32m    118\u001b[0m                 X_batch, y_batch = self.create_batch(df_select, resize=True,\n\u001b[0;32m--> 119\u001b[0;31m                                                      image_size=(299, 299), n_jobs=self.n_jobs)\n\u001b[0m\u001b[1;32m    120\u001b[0m                 \u001b[0;32mreturn\u001b[0m \u001b[0;34m(\u001b[0m\u001b[0mX_batch\u001b[0m\u001b[0;34m,\u001b[0m \u001b[0my_batch\u001b[0m\u001b[0;34m)\u001b[0m\u001b[0;34m\u001b[0m\u001b[0m\n",
      "\u001b[0;32m<ipython-input-32-5b9cd6b2d539>\u001b[0m in \u001b[0;36mcreate_batch\u001b[0;34m(self, df, resize, image_size, n_jobs)\u001b[0m\n\u001b[1;32m     89\u001b[0m \u001b[0;34m\u001b[0m\u001b[0m\n\u001b[1;32m     90\u001b[0m         \u001b[0;31m# Load images and resize them\u001b[0m\u001b[0;34m\u001b[0m\u001b[0;34m\u001b[0m\u001b[0m\n\u001b[0;32m---> 91\u001b[0;31m         \u001b[0mX\u001b[0m \u001b[0;34m=\u001b[0m \u001b[0mParallel\u001b[0m\u001b[0;34m(\u001b[0m\u001b[0mn_jobs\u001b[0m\u001b[0;34m=\u001b[0m\u001b[0mn_jobs\u001b[0m\u001b[0;34m)\u001b[0m\u001b[0;34m(\u001b[0m\u001b[0mdelayed\u001b[0m\u001b[0;34m(\u001b[0m\u001b[0mself\u001b[0m\u001b[0;34m.\u001b[0m\u001b[0mresize\u001b[0m\u001b[0;34m)\u001b[0m\u001b[0;34m(\u001b[0m\u001b[0mimg_id\u001b[0m\u001b[0;34m,\u001b[0m \u001b[0mimage_size\u001b[0m\u001b[0;34m)\u001b[0m \u001b[0;32mfor\u001b[0m \u001b[0mimg_id\u001b[0m \u001b[0;32min\u001b[0m \u001b[0mimage_ids\u001b[0m\u001b[0;34m)\u001b[0m\u001b[0;34m\u001b[0m\u001b[0m\n\u001b[0m\u001b[1;32m     92\u001b[0m \u001b[0;31m#         X = [self.resize(img_id, image_size) for img_id in image_ids]\u001b[0m\u001b[0;34m\u001b[0m\u001b[0;34m\u001b[0m\u001b[0m\n\u001b[1;32m     93\u001b[0m         \u001b[0;32mreturn\u001b[0m \u001b[0mnp\u001b[0m\u001b[0;34m.\u001b[0m\u001b[0marray\u001b[0m\u001b[0;34m(\u001b[0m\u001b[0mX\u001b[0m\u001b[0;34m)\u001b[0m\u001b[0;34m,\u001b[0m \u001b[0my\u001b[0m\u001b[0;34m\u001b[0m\u001b[0m\n",
      "\u001b[0;32m/home/ankur/miniconda3/envs/mlip/lib/python3.4/site-packages/joblib/parallel.py\u001b[0m in \u001b[0;36m__call__\u001b[0;34m(self, iterable)\u001b[0m\n\u001b[1;32m    808\u001b[0m                 \u001b[0;31m# consumption.\u001b[0m\u001b[0;34m\u001b[0m\u001b[0;34m\u001b[0m\u001b[0m\n\u001b[1;32m    809\u001b[0m                 \u001b[0mself\u001b[0m\u001b[0;34m.\u001b[0m\u001b[0m_iterating\u001b[0m \u001b[0;34m=\u001b[0m \u001b[0;32mFalse\u001b[0m\u001b[0;34m\u001b[0m\u001b[0m\n\u001b[0;32m--> 810\u001b[0;31m             \u001b[0mself\u001b[0m\u001b[0;34m.\u001b[0m\u001b[0mretrieve\u001b[0m\u001b[0;34m(\u001b[0m\u001b[0;34m)\u001b[0m\u001b[0;34m\u001b[0m\u001b[0m\n\u001b[0m\u001b[1;32m    811\u001b[0m             \u001b[0;31m# Make sure that we get a last message telling us we are done\u001b[0m\u001b[0;34m\u001b[0m\u001b[0;34m\u001b[0m\u001b[0m\n\u001b[1;32m    812\u001b[0m             \u001b[0melapsed_time\u001b[0m \u001b[0;34m=\u001b[0m \u001b[0mtime\u001b[0m\u001b[0;34m.\u001b[0m\u001b[0mtime\u001b[0m\u001b[0;34m(\u001b[0m\u001b[0;34m)\u001b[0m \u001b[0;34m-\u001b[0m \u001b[0mself\u001b[0m\u001b[0;34m.\u001b[0m\u001b[0m_start_time\u001b[0m\u001b[0;34m\u001b[0m\u001b[0m\n",
      "\u001b[0;32m/home/ankur/miniconda3/envs/mlip/lib/python3.4/site-packages/joblib/parallel.py\u001b[0m in \u001b[0;36mretrieve\u001b[0;34m(self)\u001b[0m\n\u001b[1;32m    755\u001b[0m                     \u001b[0;31m# a working pool as they expect.\u001b[0m\u001b[0;34m\u001b[0m\u001b[0;34m\u001b[0m\u001b[0m\n\u001b[1;32m    756\u001b[0m                     \u001b[0mself\u001b[0m\u001b[0;34m.\u001b[0m\u001b[0m_initialize_pool\u001b[0m\u001b[0;34m(\u001b[0m\u001b[0;34m)\u001b[0m\u001b[0;34m\u001b[0m\u001b[0m\n\u001b[0;32m--> 757\u001b[0;31m                 \u001b[0;32mraise\u001b[0m \u001b[0mexception\u001b[0m\u001b[0;34m\u001b[0m\u001b[0m\n\u001b[0m\u001b[1;32m    758\u001b[0m \u001b[0;34m\u001b[0m\u001b[0m\n\u001b[1;32m    759\u001b[0m     \u001b[0;32mdef\u001b[0m \u001b[0m__call__\u001b[0m\u001b[0;34m(\u001b[0m\u001b[0mself\u001b[0m\u001b[0;34m,\u001b[0m \u001b[0miterable\u001b[0m\u001b[0;34m)\u001b[0m\u001b[0;34m:\u001b[0m\u001b[0;34m\u001b[0m\u001b[0m\n",
      "\u001b[0;31mJoblibUnboundLocalError\u001b[0m: JoblibUnboundLocalError\n___________________________________________________________________________\nMultiprocessing exception:\n...........................................................................\n/home/ankur/miniconda3/envs/mlip/lib/python3.4/runpy.py in _run_module_as_main(mod_name='ipykernel.__main__', alter_argv=1)\n    165         sys.exit(msg)\n    166     main_globals = sys.modules[\"__main__\"].__dict__\n    167     if alter_argv:\n    168         sys.argv[0] = mod_spec.origin\n    169     return _run_code(code, main_globals, None,\n--> 170                      \"__main__\", mod_spec)\n        mod_spec = ModuleSpec(name='ipykernel.__main__', loader=<_f...b/python3.4/site-packages/ipykernel/__main__.py')\n    171 \n    172 def run_module(mod_name, init_globals=None,\n    173                run_name=None, alter_sys=False):\n    174     \"\"\"Execute a module's code without importing it\n\n...........................................................................\n/home/ankur/miniconda3/envs/mlip/lib/python3.4/runpy.py in _run_code(code=<code object <module> at 0x7f479cb49390, file \"/...3.4/site-packages/ipykernel/__main__.py\", line 1>, run_globals={'__builtins__': <module 'builtins' (built-in)>, '__cached__': '/home/ankur/miniconda3/envs/mlip/lib/python3.4/s...ges/ipykernel/__pycache__/__main__.cpython-34.pyc', '__doc__': None, '__file__': '/home/ankur/miniconda3/envs/mlip/lib/python3.4/site-packages/ipykernel/__main__.py', '__loader__': <_frozen_importlib.SourceFileLoader object>, '__name__': '__main__', '__package__': 'ipykernel', '__spec__': ModuleSpec(name='ipykernel.__main__', loader=<_f...b/python3.4/site-packages/ipykernel/__main__.py'), 'app': <module 'ipykernel.kernelapp' from '/home/ankur/.../python3.4/site-packages/ipykernel/kernelapp.py'>}, init_globals=None, mod_name='__main__', mod_spec=ModuleSpec(name='ipykernel.__main__', loader=<_f...b/python3.4/site-packages/ipykernel/__main__.py'), pkg_name='ipykernel', script_name=None)\n     80                        __cached__ = cached,\n     81                        __doc__ = None,\n     82                        __loader__ = loader,\n     83                        __package__ = pkg_name,\n     84                        __spec__ = mod_spec)\n---> 85     exec(code, run_globals)\n        code = <code object <module> at 0x7f479cb49390, file \"/...3.4/site-packages/ipykernel/__main__.py\", line 1>\n        run_globals = {'__builtins__': <module 'builtins' (built-in)>, '__cached__': '/home/ankur/miniconda3/envs/mlip/lib/python3.4/s...ges/ipykernel/__pycache__/__main__.cpython-34.pyc', '__doc__': None, '__file__': '/home/ankur/miniconda3/envs/mlip/lib/python3.4/site-packages/ipykernel/__main__.py', '__loader__': <_frozen_importlib.SourceFileLoader object>, '__name__': '__main__', '__package__': 'ipykernel', '__spec__': ModuleSpec(name='ipykernel.__main__', loader=<_f...b/python3.4/site-packages/ipykernel/__main__.py'), 'app': <module 'ipykernel.kernelapp' from '/home/ankur/.../python3.4/site-packages/ipykernel/kernelapp.py'>}\n     86     return run_globals\n     87 \n     88 def _run_module_code(code, init_globals=None,\n     89                     mod_name=None, mod_spec=None,\n\n...........................................................................\n/home/ankur/miniconda3/envs/mlip/lib/python3.4/site-packages/ipykernel/__main__.py in <module>()\n      1 \n      2 \n----> 3 \n      4 if __name__ == '__main__':\n      5     from ipykernel import kernelapp as app\n      6     app.launch_new_instance()\n      7 \n      8 \n      9 \n     10 \n\n...........................................................................\n/home/ankur/miniconda3/envs/mlip/lib/python3.4/site-packages/traitlets/config/application.py in launch_instance(cls=<class 'ipykernel.kernelapp.IPKernelApp'>, argv=None, **kwargs={})\n    653 \n    654         If a global instance already exists, this reinitializes and starts it\n    655         \"\"\"\n    656         app = cls.instance(**kwargs)\n    657         app.initialize(argv)\n--> 658         app.start()\n        app.start = <bound method IPKernelApp.start of <ipykernel.kernelapp.IPKernelApp object>>\n    659 \n    660 #-----------------------------------------------------------------------------\n    661 # utility functions, for convenience\n    662 #-----------------------------------------------------------------------------\n\n...........................................................................\n/home/ankur/miniconda3/envs/mlip/lib/python3.4/site-packages/ipykernel/kernelapp.py in start(self=<ipykernel.kernelapp.IPKernelApp object>)\n    469             return self.subapp.start()\n    470         if self.poller is not None:\n    471             self.poller.start()\n    472         self.kernel.start()\n    473         try:\n--> 474             ioloop.IOLoop.instance().start()\n    475         except KeyboardInterrupt:\n    476             pass\n    477 \n    478 launch_new_instance = IPKernelApp.launch_instance\n\n...........................................................................\n/home/ankur/miniconda3/envs/mlip/lib/python3.4/site-packages/zmq/eventloop/ioloop.py in start(self=<zmq.eventloop.ioloop.ZMQIOLoop object>)\n    172             )\n    173         return loop\n    174     \n    175     def start(self):\n    176         try:\n--> 177             super(ZMQIOLoop, self).start()\n        self.start = <bound method ZMQIOLoop.start of <zmq.eventloop.ioloop.ZMQIOLoop object>>\n    178         except ZMQError as e:\n    179             if e.errno == ETERM:\n    180                 # quietly return on ETERM\n    181                 pass\n\n...........................................................................\n/home/ankur/miniconda3/envs/mlip/lib/python3.4/site-packages/tornado/ioloop.py in start(self=<zmq.eventloop.ioloop.ZMQIOLoop object>)\n    882                 self._events.update(event_pairs)\n    883                 while self._events:\n    884                     fd, events = self._events.popitem()\n    885                     try:\n    886                         fd_obj, handler_func = self._handlers[fd]\n--> 887                         handler_func(fd_obj, events)\n        handler_func = <function wrap.<locals>.null_wrapper>\n        fd_obj = <zmq.sugar.socket.Socket object>\n        events = 1\n    888                     except (OSError, IOError) as e:\n    889                         if errno_from_exception(e) == errno.EPIPE:\n    890                             # Happens when the client closes the connection\n    891                             pass\n\n...........................................................................\n/home/ankur/miniconda3/envs/mlip/lib/python3.4/site-packages/tornado/stack_context.py in null_wrapper(*args=(<zmq.sugar.socket.Socket object>, 1), **kwargs={})\n    270         # Fast path when there are no active contexts.\n    271         def null_wrapper(*args, **kwargs):\n    272             try:\n    273                 current_state = _state.contexts\n    274                 _state.contexts = cap_contexts[0]\n--> 275                 return fn(*args, **kwargs)\n        args = (<zmq.sugar.socket.Socket object>, 1)\n        kwargs = {}\n    276             finally:\n    277                 _state.contexts = current_state\n    278         null_wrapper._wrapped = True\n    279         return null_wrapper\n\n...........................................................................\n/home/ankur/miniconda3/envs/mlip/lib/python3.4/site-packages/zmq/eventloop/zmqstream.py in _handle_events(self=<zmq.eventloop.zmqstream.ZMQStream object>, fd=<zmq.sugar.socket.Socket object>, events=1)\n    435             # dispatch events:\n    436             if events & IOLoop.ERROR:\n    437                 gen_log.error(\"got POLLERR event on ZMQStream, which doesn't make sense\")\n    438                 return\n    439             if events & IOLoop.READ:\n--> 440                 self._handle_recv()\n        self._handle_recv = <bound method ZMQStream._handle_recv of <zmq.eventloop.zmqstream.ZMQStream object>>\n    441                 if not self.socket:\n    442                     return\n    443             if events & IOLoop.WRITE:\n    444                 self._handle_send()\n\n...........................................................................\n/home/ankur/miniconda3/envs/mlip/lib/python3.4/site-packages/zmq/eventloop/zmqstream.py in _handle_recv(self=<zmq.eventloop.zmqstream.ZMQStream object>)\n    467                 gen_log.error(\"RECV Error: %s\"%zmq.strerror(e.errno))\n    468         else:\n    469             if self._recv_callback:\n    470                 callback = self._recv_callback\n    471                 # self._recv_callback = None\n--> 472                 self._run_callback(callback, msg)\n        self._run_callback = <bound method ZMQStream._run_callback of <zmq.eventloop.zmqstream.ZMQStream object>>\n        callback = <function wrap.<locals>.null_wrapper>\n        msg = [<zmq.sugar.frame.Frame object>, <zmq.sugar.frame.Frame object>, <zmq.sugar.frame.Frame object>, <zmq.sugar.frame.Frame object>, <zmq.sugar.frame.Frame object>, <zmq.sugar.frame.Frame object>, <zmq.sugar.frame.Frame object>]\n    473                 \n    474         # self.update_state()\n    475         \n    476 \n\n...........................................................................\n/home/ankur/miniconda3/envs/mlip/lib/python3.4/site-packages/zmq/eventloop/zmqstream.py in _run_callback(self=<zmq.eventloop.zmqstream.ZMQStream object>, callback=<function wrap.<locals>.null_wrapper>, *args=([<zmq.sugar.frame.Frame object>, <zmq.sugar.frame.Frame object>, <zmq.sugar.frame.Frame object>, <zmq.sugar.frame.Frame object>, <zmq.sugar.frame.Frame object>, <zmq.sugar.frame.Frame object>, <zmq.sugar.frame.Frame object>],), **kwargs={})\n    409         close our socket.\"\"\"\n    410         try:\n    411             # Use a NullContext to ensure that all StackContexts are run\n    412             # inside our blanket exception handler rather than outside.\n    413             with stack_context.NullContext():\n--> 414                 callback(*args, **kwargs)\n        callback = <function wrap.<locals>.null_wrapper>\n        args = ([<zmq.sugar.frame.Frame object>, <zmq.sugar.frame.Frame object>, <zmq.sugar.frame.Frame object>, <zmq.sugar.frame.Frame object>, <zmq.sugar.frame.Frame object>, <zmq.sugar.frame.Frame object>, <zmq.sugar.frame.Frame object>],)\n        kwargs = {}\n    415         except:\n    416             gen_log.error(\"Uncaught exception, closing connection.\",\n    417                           exc_info=True)\n    418             # Close the socket on an uncaught exception from a user callback\n\n...........................................................................\n/home/ankur/miniconda3/envs/mlip/lib/python3.4/site-packages/tornado/stack_context.py in null_wrapper(*args=([<zmq.sugar.frame.Frame object>, <zmq.sugar.frame.Frame object>, <zmq.sugar.frame.Frame object>, <zmq.sugar.frame.Frame object>, <zmq.sugar.frame.Frame object>, <zmq.sugar.frame.Frame object>, <zmq.sugar.frame.Frame object>],), **kwargs={})\n    270         # Fast path when there are no active contexts.\n    271         def null_wrapper(*args, **kwargs):\n    272             try:\n    273                 current_state = _state.contexts\n    274                 _state.contexts = cap_contexts[0]\n--> 275                 return fn(*args, **kwargs)\n        args = ([<zmq.sugar.frame.Frame object>, <zmq.sugar.frame.Frame object>, <zmq.sugar.frame.Frame object>, <zmq.sugar.frame.Frame object>, <zmq.sugar.frame.Frame object>, <zmq.sugar.frame.Frame object>, <zmq.sugar.frame.Frame object>],)\n        kwargs = {}\n    276             finally:\n    277                 _state.contexts = current_state\n    278         null_wrapper._wrapped = True\n    279         return null_wrapper\n\n...........................................................................\n/home/ankur/miniconda3/envs/mlip/lib/python3.4/site-packages/ipykernel/kernelbase.py in dispatcher(msg=[<zmq.sugar.frame.Frame object>, <zmq.sugar.frame.Frame object>, <zmq.sugar.frame.Frame object>, <zmq.sugar.frame.Frame object>, <zmq.sugar.frame.Frame object>, <zmq.sugar.frame.Frame object>, <zmq.sugar.frame.Frame object>])\n    271         if self.control_stream:\n    272             self.control_stream.on_recv(self.dispatch_control, copy=False)\n    273 \n    274         def make_dispatcher(stream):\n    275             def dispatcher(msg):\n--> 276                 return self.dispatch_shell(stream, msg)\n        msg = [<zmq.sugar.frame.Frame object>, <zmq.sugar.frame.Frame object>, <zmq.sugar.frame.Frame object>, <zmq.sugar.frame.Frame object>, <zmq.sugar.frame.Frame object>, <zmq.sugar.frame.Frame object>, <zmq.sugar.frame.Frame object>]\n    277             return dispatcher\n    278 \n    279         for s in self.shell_streams:\n    280             s.on_recv(make_dispatcher(s), copy=False)\n\n...........................................................................\n/home/ankur/miniconda3/envs/mlip/lib/python3.4/site-packages/ipykernel/kernelbase.py in dispatch_shell(self=<ipykernel.ipkernel.IPythonKernel object>, stream=<zmq.eventloop.zmqstream.ZMQStream object>, msg={'buffers': [], 'content': {'allow_stdin': True, 'code': \"batch_gen_apect = BatchGenerator(train_json='tra...ch_y.shape)\\n    i+=1\\n    if i > 50:\\n        break\", 'silent': False, 'stop_on_error': True, 'store_history': True, 'user_expressions': {}}, 'header': {'date': '2018-05-07T07:34:50.516817', 'msg_id': '324D584A540A47AC9A3B0CB781DDD105', 'msg_type': 'execute_request', 'session': '39619039120840C289A97A6AE4186CF3', 'username': 'username', 'version': '5.0'}, 'metadata': {}, 'msg_id': '324D584A540A47AC9A3B0CB781DDD105', 'msg_type': 'execute_request', 'parent_header': {}})\n    223             self.log.error(\"UNKNOWN MESSAGE TYPE: %r\", msg_type)\n    224         else:\n    225             self.log.debug(\"%s: %s\", msg_type, msg)\n    226             self.pre_handler_hook()\n    227             try:\n--> 228                 handler(stream, idents, msg)\n        handler = <bound method IPythonKernel.execute_request of <ipykernel.ipkernel.IPythonKernel object>>\n        stream = <zmq.eventloop.zmqstream.ZMQStream object>\n        idents = [b'39619039120840C289A97A6AE4186CF3']\n        msg = {'buffers': [], 'content': {'allow_stdin': True, 'code': \"batch_gen_apect = BatchGenerator(train_json='tra...ch_y.shape)\\n    i+=1\\n    if i > 50:\\n        break\", 'silent': False, 'stop_on_error': True, 'store_history': True, 'user_expressions': {}}, 'header': {'date': '2018-05-07T07:34:50.516817', 'msg_id': '324D584A540A47AC9A3B0CB781DDD105', 'msg_type': 'execute_request', 'session': '39619039120840C289A97A6AE4186CF3', 'username': 'username', 'version': '5.0'}, 'metadata': {}, 'msg_id': '324D584A540A47AC9A3B0CB781DDD105', 'msg_type': 'execute_request', 'parent_header': {}}\n    229             except Exception:\n    230                 self.log.error(\"Exception in message handler:\", exc_info=True)\n    231             finally:\n    232                 self.post_handler_hook()\n\n...........................................................................\n/home/ankur/miniconda3/envs/mlip/lib/python3.4/site-packages/ipykernel/kernelbase.py in execute_request(self=<ipykernel.ipkernel.IPythonKernel object>, stream=<zmq.eventloop.zmqstream.ZMQStream object>, ident=[b'39619039120840C289A97A6AE4186CF3'], parent={'buffers': [], 'content': {'allow_stdin': True, 'code': \"batch_gen_apect = BatchGenerator(train_json='tra...ch_y.shape)\\n    i+=1\\n    if i > 50:\\n        break\", 'silent': False, 'stop_on_error': True, 'store_history': True, 'user_expressions': {}}, 'header': {'date': '2018-05-07T07:34:50.516817', 'msg_id': '324D584A540A47AC9A3B0CB781DDD105', 'msg_type': 'execute_request', 'session': '39619039120840C289A97A6AE4186CF3', 'username': 'username', 'version': '5.0'}, 'metadata': {}, 'msg_id': '324D584A540A47AC9A3B0CB781DDD105', 'msg_type': 'execute_request', 'parent_header': {}})\n    385         if not silent:\n    386             self.execution_count += 1\n    387             self._publish_execute_input(code, parent, self.execution_count)\n    388 \n    389         reply_content = self.do_execute(code, silent, store_history,\n--> 390                                         user_expressions, allow_stdin)\n        user_expressions = {}\n        allow_stdin = True\n    391 \n    392         # Flush output before sending the reply.\n    393         sys.stdout.flush()\n    394         sys.stderr.flush()\n\n...........................................................................\n/home/ankur/miniconda3/envs/mlip/lib/python3.4/site-packages/ipykernel/ipkernel.py in do_execute(self=<ipykernel.ipkernel.IPythonKernel object>, code=\"batch_gen_apect = BatchGenerator(train_json='tra...ch_y.shape)\\n    i+=1\\n    if i > 50:\\n        break\", silent=False, store_history=True, user_expressions={}, allow_stdin=True)\n    191 \n    192         self._forward_input(allow_stdin)\n    193 \n    194         reply_content = {}\n    195         try:\n--> 196             res = shell.run_cell(code, store_history=store_history, silent=silent)\n        res = undefined\n        shell.run_cell = <bound method ZMQInteractiveShell.run_cell of <ipykernel.zmqshell.ZMQInteractiveShell object>>\n        code = \"batch_gen_apect = BatchGenerator(train_json='tra...ch_y.shape)\\n    i+=1\\n    if i > 50:\\n        break\"\n        store_history = True\n        silent = False\n    197         finally:\n    198             self._restore_input()\n    199 \n    200         if res.error_before_exec is not None:\n\n...........................................................................\n/home/ankur/miniconda3/envs/mlip/lib/python3.4/site-packages/ipykernel/zmqshell.py in run_cell(self=<ipykernel.zmqshell.ZMQInteractiveShell object>, *args=(\"batch_gen_apect = BatchGenerator(train_json='tra...ch_y.shape)\\n    i+=1\\n    if i > 50:\\n        break\",), **kwargs={'silent': False, 'store_history': True})\n    496             )\n    497         self.payload_manager.write_payload(payload)\n    498 \n    499     def run_cell(self, *args, **kwargs):\n    500         self._last_traceback = None\n--> 501         return super(ZMQInteractiveShell, self).run_cell(*args, **kwargs)\n        self.run_cell = <bound method ZMQInteractiveShell.run_cell of <ipykernel.zmqshell.ZMQInteractiveShell object>>\n        args = (\"batch_gen_apect = BatchGenerator(train_json='tra...ch_y.shape)\\n    i+=1\\n    if i > 50:\\n        break\",)\n        kwargs = {'silent': False, 'store_history': True}\n    502 \n    503     def _showtraceback(self, etype, evalue, stb):\n    504         # try to preserve ordering of tracebacks and print statements\n    505         sys.stdout.flush()\n\n...........................................................................\n/home/ankur/miniconda3/envs/mlip/lib/python3.4/site-packages/IPython/core/interactiveshell.py in run_cell(self=<ipykernel.zmqshell.ZMQInteractiveShell object>, raw_cell=\"batch_gen_apect = BatchGenerator(train_json='tra...ch_y.shape)\\n    i+=1\\n    if i > 50:\\n        break\", store_history=True, silent=False, shell_futures=True)\n   2712                 self.displayhook.exec_result = result\n   2713 \n   2714                 # Execute the user code\n   2715                 interactivity = \"none\" if silent else self.ast_node_interactivity\n   2716                 has_raised = self.run_ast_nodes(code_ast.body, cell_name,\n-> 2717                    interactivity=interactivity, compiler=compiler, result=result)\n        interactivity = 'last_expr'\n        compiler = <IPython.core.compilerop.CachingCompiler object>\n   2718                 \n   2719                 self.last_execution_succeeded = not has_raised\n   2720 \n   2721                 # Reset this so later displayed values do not modify the\n\n...........................................................................\n/home/ankur/miniconda3/envs/mlip/lib/python3.4/site-packages/IPython/core/interactiveshell.py in run_ast_nodes(self=<ipykernel.zmqshell.ZMQInteractiveShell object>, nodelist=[<_ast.Assign object>, <_ast.Assign object>, <_ast.Assign object>, <_ast.Assign object>, <_ast.Assign object>, <_ast.For object>], cell_name='<ipython-input-35-dbfa9a551eac>', interactivity='none', compiler=<IPython.core.compilerop.CachingCompiler object>, result=<ExecutionResult object at 7f47726c2d68, executi..._before_exec=None error_in_exec=None result=None>)\n   2816 \n   2817         try:\n   2818             for i, node in enumerate(to_run_exec):\n   2819                 mod = ast.Module([node])\n   2820                 code = compiler(mod, cell_name, \"exec\")\n-> 2821                 if self.run_code(code, result):\n        self.run_code = <bound method ZMQInteractiveShell.run_code of <ipykernel.zmqshell.ZMQInteractiveShell object>>\n        code = <code object <module> at 0x7f4762a70db0, file \"<ipython-input-35-dbfa9a551eac>\", line 14>\n        result = <ExecutionResult object at 7f47726c2d68, executi..._before_exec=None error_in_exec=None result=None>\n   2822                     return True\n   2823 \n   2824             for i, node in enumerate(to_run_interactive):\n   2825                 mod = ast.Interactive([node])\n\n...........................................................................\n/home/ankur/miniconda3/envs/mlip/lib/python3.4/site-packages/IPython/core/interactiveshell.py in run_code(self=<ipykernel.zmqshell.ZMQInteractiveShell object>, code_obj=<code object <module> at 0x7f4762a70db0, file \"<ipython-input-35-dbfa9a551eac>\", line 14>, result=<ExecutionResult object at 7f47726c2d68, executi..._before_exec=None error_in_exec=None result=None>)\n   2876         outflag = 1  # happens in more places, so it's easier as default\n   2877         try:\n   2878             try:\n   2879                 self.hooks.pre_run_code_hook()\n   2880                 #rprint('Running code', repr(code_obj)) # dbg\n-> 2881                 exec(code_obj, self.user_global_ns, self.user_ns)\n        code_obj = <code object <module> at 0x7f4762a70db0, file \"<ipython-input-35-dbfa9a551eac>\", line 14>\n        self.user_global_ns = {'BatchGenerator': <class '__main__.BatchGenerator'>, 'Image': <module 'PIL.Image' from '/home/ankur/miniconda3...s/mlip/lib/python3.4/site-packages/PIL/Image.py'>, 'In': ['', \"## Imports\\nimport os\\nimport json\\nfrom collection...delayed\\n\\nget_ipython().magic('matplotlib inline')\", \"## Global variables\\ntrain_json = 'train.json'\\ntrain_path = 'train/'\", 'class BatchGenerator:\\n    def __init__(self, tra....n_jobs)\\n                yield (X_batch, y_batch)', 'class BatchGenerator:\\n    def __init__(self, tra....n_jobs)\\n                yield (X_batch, y_batch)', \"batch_gen = BatchGenerator(train_json='train.jso... batch_gen.__iter__()\\n    print(X.shape, y.shape)\", 'class BatchGenerator:\\n    def __init__(self, tra....n_jobs)\\n                yield (X_batch, y_batch)', 'class BatchGenerator:\\n    def __init__(self, tra...n_jobs)\\n                return (X_batch, y_batch)', 'import gc; gc.collect()', \"batch_gen = BatchGenerator(train_json='train.jso... batch_gen.__iter__()\\n    print(X.shape, y.shape)\", 'class BatchGenerator:\\n    def __init__(self, tra...n_jobs)\\n                return (X_batch, y_batch)', 'class BatchGenerator:\\n    def __init__(self, tra...n_jobs)\\n                return (X_batch, y_batch)', 'import gc; gc.collect()', \"batch_gen = BatchGenerator(train_json='train.jso... batch_gen.__iter__()\\n    print(X.shape, y.shape)\", 'class BatchGenerator:\\n    def __init__(self, tra...n_jobs)\\n                return (X_batch, y_batch)', 'import gc; gc.collect()', \"batch_gen = BatchGenerator(train_json='train.jso... batch_gen.__iter__()\\n    print(X.shape, y.shape)\", \"batch_gen = BatchGenerator(train_json='train.jso...batch_x.shape)\\n    print(batch_y.shape)\\n    break\", 'class BatchGenerator:\\n    def __init__(self, tra...n_jobs)\\n                return (X_batch, y_batch)', 'import gc; gc.collect()', ...], 'MultiLabelBinarizer': <class 'sklearn.preprocessing.label.MultiLabelBinarizer'>, 'Out': {8: 82, 12: 175, 15: 145, 19: 342, 23: 196, 29: 439, 33: 323}, 'PIL': <module 'PIL' from '/home/ankur/miniconda3/envs/mlip/lib/python3.4/site-packages/PIL/__init__.py'>, 'Parallel': <class 'joblib.parallel.Parallel'>, '_': 323, '_12': 175, '_15': 145, ...}\n        self.user_ns = {'BatchGenerator': <class '__main__.BatchGenerator'>, 'Image': <module 'PIL.Image' from '/home/ankur/miniconda3...s/mlip/lib/python3.4/site-packages/PIL/Image.py'>, 'In': ['', \"## Imports\\nimport os\\nimport json\\nfrom collection...delayed\\n\\nget_ipython().magic('matplotlib inline')\", \"## Global variables\\ntrain_json = 'train.json'\\ntrain_path = 'train/'\", 'class BatchGenerator:\\n    def __init__(self, tra....n_jobs)\\n                yield (X_batch, y_batch)', 'class BatchGenerator:\\n    def __init__(self, tra....n_jobs)\\n                yield (X_batch, y_batch)', \"batch_gen = BatchGenerator(train_json='train.jso... batch_gen.__iter__()\\n    print(X.shape, y.shape)\", 'class BatchGenerator:\\n    def __init__(self, tra....n_jobs)\\n                yield (X_batch, y_batch)', 'class BatchGenerator:\\n    def __init__(self, tra...n_jobs)\\n                return (X_batch, y_batch)', 'import gc; gc.collect()', \"batch_gen = BatchGenerator(train_json='train.jso... batch_gen.__iter__()\\n    print(X.shape, y.shape)\", 'class BatchGenerator:\\n    def __init__(self, tra...n_jobs)\\n                return (X_batch, y_batch)', 'class BatchGenerator:\\n    def __init__(self, tra...n_jobs)\\n                return (X_batch, y_batch)', 'import gc; gc.collect()', \"batch_gen = BatchGenerator(train_json='train.jso... batch_gen.__iter__()\\n    print(X.shape, y.shape)\", 'class BatchGenerator:\\n    def __init__(self, tra...n_jobs)\\n                return (X_batch, y_batch)', 'import gc; gc.collect()', \"batch_gen = BatchGenerator(train_json='train.jso... batch_gen.__iter__()\\n    print(X.shape, y.shape)\", \"batch_gen = BatchGenerator(train_json='train.jso...batch_x.shape)\\n    print(batch_y.shape)\\n    break\", 'class BatchGenerator:\\n    def __init__(self, tra...n_jobs)\\n                return (X_batch, y_batch)', 'import gc; gc.collect()', ...], 'MultiLabelBinarizer': <class 'sklearn.preprocessing.label.MultiLabelBinarizer'>, 'Out': {8: 82, 12: 175, 15: 145, 19: 342, 23: 196, 29: 439, 33: 323}, 'PIL': <module 'PIL' from '/home/ankur/miniconda3/envs/mlip/lib/python3.4/site-packages/PIL/__init__.py'>, 'Parallel': <class 'joblib.parallel.Parallel'>, '_': 323, '_12': 175, '_15': 145, ...}\n   2882             finally:\n   2883                 # Reset our crash handler in place\n   2884                 sys.excepthook = old_excepthook\n   2885         except SystemExit as e:\n\n...........................................................................\n/home/ankur/kaggle/fashion/<ipython-input-35-dbfa9a551eac> in <module>()\n      9 batch_get_standard = BatchGenerator(train_json='train.json', train_path='train/', df='df_final.csv',\n     10                                        size=None, a_ratio=None, batch_size=32, n_jobs=-1)\n     11 \n     12 \n     13 i = 0\n---> 14 for batch_x, batch_y in batch_get_standard:\n     15     print(batch_x.shape)\n     16     print(batch_y.shape)\n     17     i+=1\n     18     if i > 50:\n\n...........................................................................\n/home/ankur/kaggle/fashion/<ipython-input-32-5b9cd6b2d539> in __next__(self=<__main__.BatchGenerator object>)\n     57     \n     58     def __iter__(self):\n     59         return self\n     60 \n     61     def __next__(self):\n---> 62         return self.next()\n     63 \n     64     def __len__(self):\n     65         # Provide length in number of batches\n     66         return self.n_batches\n\n...........................................................................\n/home/ankur/kaggle/fashion/<ipython-input-32-5b9cd6b2d539> in next(self=<__main__.BatchGenerator object>)\n    114                 return (X_batch, y_batch)\n    115         else:\n    116             while True:\n    117                 df_select = self.df.sample(self.batch_size, replace=True)\n    118                 X_batch, y_batch = self.create_batch(df_select, resize=True,\n--> 119                                                      image_size=(299, 299), n_jobs=self.n_jobs)\n    120                 return (X_batch, y_batch)\n    121 \n    122 \n    123 \n\n...........................................................................\n/home/ankur/kaggle/fashion/<ipython-input-32-5b9cd6b2d539> in create_batch(self=<__main__.BatchGenerator object>, df=      Unnamed: 0  1  10  100  101  102  103  104...600  600      1.000000  \n\n[32 rows x 232 columns], resize=True, image_size=(299, 299), n_jobs=-1)\n     86         \"\"\"\n     87         image_ids = df.index\n     88         y = df.drop(['x', 'y', 'aspect_ratio'], axis=1).values\n     89         \n     90         # Load images and resize them\n---> 91         X = Parallel(n_jobs=n_jobs)(delayed(self.resize)(img_id, image_size) for img_id in image_ids)\n     92 #         X = [self.resize(img_id, image_size) for img_id in image_ids]\n     93         return np.array(X), y\n     94     \n     95     def next(self):\n\n...........................................................................\n/home/ankur/miniconda3/envs/mlip/lib/python3.4/site-packages/joblib/parallel.py in __call__(self=Parallel(n_jobs=-1), iterable=<generator object <genexpr>>)\n    805             if pre_dispatch == \"all\" or n_jobs == 1:\n    806                 # The iterable was consumed all at once by the above for loop.\n    807                 # No need to wait for async callbacks to trigger to\n    808                 # consumption.\n    809                 self._iterating = False\n--> 810             self.retrieve()\n        self.retrieve = <bound method Parallel.retrieve of Parallel(n_jobs=-1)>\n    811             # Make sure that we get a last message telling us we are done\n    812             elapsed_time = time.time() - self._start_time\n    813             self._print('Done %3i out of %3i | elapsed: %s finished',\n    814                         (len(self._output), len(self._output),\n\n---------------------------------------------------------------------------\nSub-process traceback:\n---------------------------------------------------------------------------\nUnboundLocalError                                  Mon May  7 07:35:26 2018\nPID: 12063        Python 3.4.5: /home/ankur/miniconda3/envs/mlip/bin/python\n...........................................................................\n/home/ankur/miniconda3/envs/mlip/lib/python3.4/site-packages/joblib/parallel.py in __call__(self=<joblib.parallel.BatchedCalls object>)\n     67     def __init__(self, iterator_slice):\n     68         self.items = list(iterator_slice)\n     69         self._size = len(self.items)\n     70 \n     71     def __call__(self):\n---> 72         return [func(*args, **kwargs) for func, args, kwargs in self.items]\n        self.items = [(<bound method BatchGenerator.resize of <__main__.BatchGenerator object>>, (5664, (299, 299)), {}), (<bound method BatchGenerator.resize of <__main__.BatchGenerator object>>, (0, (299, 299)), {})]\n     73 \n     74     def __len__(self):\n     75         return self._size\n     76 \n\n...........................................................................\n/home/ankur/miniconda3/envs/mlip/lib/python3.4/site-packages/joblib/parallel.py in <listcomp>(.0=<list_iterator object>)\n     67     def __init__(self, iterator_slice):\n     68         self.items = list(iterator_slice)\n     69         self._size = len(self.items)\n     70 \n     71     def __call__(self):\n---> 72         return [func(*args, **kwargs) for func, args, kwargs in self.items]\n        func = <bound method BatchGenerator.resize of <__main__.BatchGenerator object>>\n        args = (0, (299, 299))\n        kwargs = {}\n     73 \n     74     def __len__(self):\n     75         return self._size\n     76 \n\n...........................................................................\n/home/ankur/kaggle/fashion/<ipython-input-32-5b9cd6b2d539> in resize(self=<__main__.BatchGenerator object>, img_id=0, image_size=(299, 299), resample=1)\n     72         try:\n     73             img = Image.open(os.path.join(self.train_path, str(img_id) + '.jpg'))\n     74         except OSError:\n     75             print(\"Couldn't load image: \", str(img_id)+'.jpg')\n     76         \n---> 77         return np.array(img.resize(image_size, resample=resample))\n     78     \n     79     def create_batch(self, df, resize=False, image_size=(299, 299), n_jobs=-1):\n     80         \"\"\"\n     81         Creates a batch from given df by loading the image files.\n\nUnboundLocalError: local variable 'img' referenced before assignment\n___________________________________________________________________________"
     ]
    }
   ],
   "source": [
    "batch_gen_apect = BatchGenerator(train_json='train.json', train_path='train/', df='df_final.csv',\n",
    "                                 size=None, a_ratio=[1.0], batch_size=32, n_jobs=-1)\n",
    "batch_gen_multiaspect = BatchGenerator(train_json='train.json', train_path='train/', df='df_final.csv',\n",
    "                                       size=None, a_ratio=[1.0, 2.0], batch_size=32, n_jobs=-1)\n",
    "\n",
    "batch_get_fixed_sizes = BatchGenerator(train_json='train.json', train_path='train/', df='df_final.csv',\n",
    "                                       size=[(400, 400), (500, 500), (600, 600)], a_ratio=None,\n",
    "                                       batch_size=32, n_jobs=-1)\n",
    "batch_get_standard = BatchGenerator(train_json='train.json', train_path='train/', df='df_final.csv',\n",
    "                                       size=None, a_ratio=None, batch_size=32, n_jobs=-1)\n",
    "\n",
    "\n",
    "i = 0\n",
    "for batch_x, batch_y in batch_get_standard:\n",
    "    print(batch_x.shape)\n",
    "    print(batch_y.shape)\n",
    "    i+=1\n",
    "    if i > 50:\n",
    "        break"
   ]
  },
  {
   "cell_type": "code",
   "execution_count": null,
   "metadata": {
    "collapsed": true
   },
   "outputs": [],
   "source": []
  }
 ],
 "metadata": {
  "kernelspec": {
   "display_name": "Python 3",
   "language": "python",
   "name": "python3"
  },
  "language_info": {
   "codemirror_mode": {
    "name": "ipython",
    "version": 3
   },
   "file_extension": ".py",
   "mimetype": "text/x-python",
   "name": "python",
   "nbconvert_exporter": "python",
   "pygments_lexer": "ipython3",
   "version": "3.4.5"
  }
 },
 "nbformat": 4,
 "nbformat_minor": 2
}
