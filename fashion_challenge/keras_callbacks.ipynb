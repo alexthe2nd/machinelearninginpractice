{
 "cells": [
  {
   "cell_type": "code",
   "execution_count": 6,
   "metadata": {
    "collapsed": false
   },
   "outputs": [],
   "source": [
    "import numpy as np\n",
    "from sklearn.metrics import accuracy_score\n",
    "\n",
    "class FindThresholds(keras.callbacks.Callback):\n",
    "    def __init__(self, train_gen, df, *args, **kwargs):\n",
    "        # Train generator should be reading from df to have the correct order\n",
    "        self.train_gen = train_gen\n",
    "        self.df = df\n",
    "        super(FindThresholds, self).__init__(*args, **kwargs)\n",
    "\n",
    "    def on_train_end(self, logs={}):\n",
    "        predictions = self.model.predict(self.train_gen)\n",
    "        df_pred = pd.DataFrame(predictions, columns=self.df.columns, index=self.df.index)\n",
    "        thresholds = []\n",
    "        best_acc = []\n",
    "        for col_idx in range(df_pred.shape[1]):\n",
    "            max_acc = 0\n",
    "            for thres in np.linspace(-1, 1, 99):\n",
    "                final_output = np.where(df_pred.iloc[:, col_idx] > thres, 1, 0)\n",
    "                acc = accuracy_score(self.df.iloc[:, col_idx], final_output)\n",
    "                if acc > max_acc:\n",
    "                    max_acc = acc\n",
    "                    best_thres = thres\n",
    "            thresholds.append(best_thres)\n",
    "            best_acc.append(max_acc)\n",
    "        print(thresholds)\n",
    "        print(best_acc)"
   ]
  },
  {
   "cell_type": "code",
   "execution_count": 1,
   "metadata": {
    "collapsed": true
   },
   "outputs": [],
   "source": [
    "def compute_thresholds(true, predictions):\n",
    "    df_true = pd.DataFramce(true)\n",
    "    df_pred = pd.DataFrame(predictions)\n",
    "    thresholds = []\n",
    "    best_acc = []\n",
    "    for col_idx in range(df_pred.shape[1]):\n",
    "        max_acc = 0\n",
    "        for thres in np.linspace(-1, 1, 99):\n",
    "            final_output = np.where(df_pred.iloc[:, col_idx] > thres, 1, 0)\n",
    "            acc = accuracy_score(self.df.iloc[:, col_idx], final_output)\n",
    "            if acc > max_acc: \n",
    "                max_acc = acc\n",
    "                best_thres = thres\n",
    "        thresholds.append(best_thres)\n",
    "        best_acc.append(max_acc)\n",
    "    print(thresholds)\n",
    "    print(best_acc)"
   ]
  },
  {
   "cell_type": "code",
   "execution_count": null,
   "metadata": {
    "collapsed": true
   },
   "outputs": [],
   "source": []
  }
 ],
 "metadata": {
  "kernelspec": {
   "display_name": "Python 3",
   "language": "python",
   "name": "python3"
  },
  "language_info": {
   "codemirror_mode": {
    "name": "ipython",
    "version": 3
   },
   "file_extension": ".py",
   "mimetype": "text/x-python",
   "name": "python",
   "nbconvert_exporter": "python",
   "pygments_lexer": "ipython3",
   "version": "3.4.5"
  }
 },
 "nbformat": 4,
 "nbformat_minor": 2
}
