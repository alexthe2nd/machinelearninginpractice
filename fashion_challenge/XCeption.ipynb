{
  "nbformat": 4,
  "nbformat_minor": 0,
  "metadata": {
    "colab": {
      "name": "XCeption.ipynb",
      "version": "0.3.2",
      "views": {},
      "default_view": {},
      "provenance": [],
      "collapsed_sections": []
    },
    "kernelspec": {
      "name": "python3",
      "display_name": "Python 3"
    },
    "accelerator": "GPU"
  },
  "cells": [
    {
      "metadata": {
        "id": "TwEz5leI3fEV",
        "colab_type": "text"
      },
      "cell_type": "markdown",
      "source": [
        "# Load Data\n",
        "This first section will first upload files and then load data from the server."
      ]
    },
    {
      "metadata": {
        "id": "moHvs3EH3u7n",
        "colab_type": "code",
        "colab": {
          "autoexec": {
            "startup": false,
            "wait_interval": 0
          },
          "resources": {
            "http://localhost:8080/nbextensions/google.colab/files.js": {
              "data": "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",
              "ok": true,
              "headers": [
                [
                  "content-type",
                  "application/javascript"
                ]
              ],
              "status": 200,
              "status_text": ""
            }
          },
          "base_uri": "https://localhost:8080/",
          "height": 207
        },
        "outputId": "5546e653-f019-49e4-b2ab-e0d819bf8594",
        "executionInfo": {
          "status": "ok",
          "timestamp": 1524557004201,
          "user_tz": -120,
          "elapsed": 234327,
          "user": {
            "displayName": "Tristan de Boer",
            "photoUrl": "https://lh3.googleusercontent.com/a/default-user=s128",
            "userId": "105078570109525655358"
          }
        }
      },
      "cell_type": "code",
      "source": [
        "\n",
        "from google.colab import files\n",
        "uploaded = files.upload()\n",
        "!pip install tqdm"
      ],
      "execution_count": 1,
      "outputs": [
        {
          "output_type": "display_data",
          "data": {
            "text/html": [
              "\n",
              "     <input type=\"file\" id=\"files-455a5c1e-53a0-44af-b6c6-7850e1a8052f\" name=\"files[]\" multiple disabled />\n",
              "     <output id=\"result-455a5c1e-53a0-44af-b6c6-7850e1a8052f\">\n",
              "      Upload widget is only available when the cell has been executed in the\n",
              "      current browser session. Please rerun this cell to enable.\n",
              "      </output>\n",
              "      <script src=\"/nbextensions/google.colab/files.js\"></script> "
            ],
            "text/plain": [
              "<IPython.core.display.HTML object>"
            ]
          },
          "metadata": {
            "tags": []
          }
        },
        {
          "output_type": "stream",
          "text": [
            "Saving train.json.zip to train.json.zip\n",
            "Collecting tqdm\n",
            "  Downloading https://files.pythonhosted.org/packages/78/bc/de067ab2d700b91717dc5459d86a1877e2df31abfb90ab01a5a5a5ce30b4/tqdm-4.23.0-py2.py3-none-any.whl (42kB)\n",
            "\u001b[K    100% |████████████████████████████████| 51kB 1.2MB/s \n",
            "\u001b[?25hInstalling collected packages: tqdm\n",
            "Successfully installed tqdm-4.23.0\n",
            "\u001b[33mYou are using pip version 9.0.3, however version 10.0.1 is available.\n",
            "You should consider upgrading via the 'pip install --upgrade pip' command.\u001b[0m\n"
          ],
          "name": "stdout"
        }
      ]
    },
    {
      "metadata": {
        "id": "UT72xTcfrdIa",
        "colab_type": "code",
        "colab": {
          "autoexec": {
            "startup": false,
            "wait_interval": 0
          },
          "base_uri": "https://localhost:8080/",
          "height": 55
        },
        "outputId": "6735a558-faf7-4c25-d050-bb436b137ade",
        "executionInfo": {
          "status": "ok",
          "timestamp": 1524557019203,
          "user_tz": -120,
          "elapsed": 3495,
          "user": {
            "displayName": "Tristan de Boer",
            "photoUrl": "https://lh3.googleusercontent.com/a/default-user=s128",
            "userId": "105078570109525655358"
          }
        }
      },
      "cell_type": "code",
      "source": [
        "!unzip train.json.zip"
      ],
      "execution_count": 2,
      "outputs": [
        {
          "output_type": "stream",
          "text": [
            "Archive:  train.json.zip\n",
            "  inflating: train.json              \n"
          ],
          "name": "stdout"
        }
      ]
    },
    {
      "metadata": {
        "id": "KaQOF5F63irh",
        "colab_type": "code",
        "colab": {
          "autoexec": {
            "startup": false,
            "wait_interval": 0
          },
          "base_uri": "https://localhost:8080/",
          "height": 36
        },
        "outputId": "f301c61a-e111-4859-bc16-6e518c8fb837",
        "executionInfo": {
          "status": "ok",
          "timestamp": 1524557090156,
          "user_tz": -120,
          "elapsed": 69430,
          "user": {
            "displayName": "Tristan de Boer",
            "photoUrl": "https://lh3.googleusercontent.com/a/default-user=s128",
            "userId": "105078570109525655358"
          }
        }
      },
      "cell_type": "code",
      "source": [
        "from __future__ import absolute_import\n",
        "from __future__ import division\n",
        "from __future__ import print_function\n",
        "\n",
        "import io\n",
        "import os\n",
        "import sys\n",
        "import json\n",
        "import urllib3\n",
        "import multiprocessing\n",
        "\n",
        "from PIL import Image\n",
        "from tqdm import tqdm\n",
        "from urllib3.util import Retry\n",
        "\n",
        "urllib3.disable_warnings(urllib3.exceptions.InsecureRequestWarning)\n",
        "\n",
        "\n",
        "def download_image(fnames_and_urls):\n",
        "    \"\"\"\n",
        "    download image and save its with 90% quality as JPG format\n",
        "    skip image downloading if image already exists at given path\n",
        "    :param fnames_and_urls: tuple containing absolute path and url of image\n",
        "    \"\"\"\n",
        "    fname, url = fnames_and_urls\n",
        "    if not os.path.exists(fname):\n",
        "        http = urllib3.PoolManager(retries=Retry(connect=3, read=2, redirect=3))\n",
        "        response = http.request(\"GET\", url)\n",
        "        image = Image.open(io.BytesIO(response.data))\n",
        "        image_rgb = image.convert(\"RGB\")\n",
        "        image_rgb.save(fname, format='JPEG', quality=100)\n",
        "\n",
        "\n",
        "def parse_dataset(_dataset, _outdir, _max=3000):\n",
        "    \"\"\"\n",
        "    parse the dataset to create a list of tuple containing absolute path and url of image\n",
        "    :param _dataset: dataset to parse\n",
        "    :param _outdir: output directory where data will be saved\n",
        "    :param _max: maximum images to download (change to download all dataset)\n",
        "    :return: list of tuple containing absolute path and url of image\n",
        "    \"\"\"\n",
        "    _fnames_urls = []\n",
        "    with open(dataset, 'r') as f:\n",
        "        data = json.load(f)\n",
        "        for image in data[\"images\"]:\n",
        "            url = image[\"url\"]\n",
        "            fname = os.path.join(outdir, \"{}.jpg\".format(image[\"imageId\"]))\n",
        "            _fnames_urls.append((fname, url))\n",
        "    return _fnames_urls[:_max]\n",
        "\n",
        "\n",
        "if __name__ == '__main__':\n",
        "    #if len(sys.argv) != 3:\n",
        "    #    print(\"error: not enough arguments\")\n",
        "    #    sys.exit(0)\n",
        "\n",
        "    # get args and create output directory\n",
        "    dataset, outdir = \"train.json\", \"train\"\n",
        "    if not os.path.exists(outdir):\n",
        "        os.makedirs(outdir)\n",
        "\n",
        "    # parse json dataset file\n",
        "    fnames_urls = parse_dataset(dataset, outdir)\n",
        "\n",
        "    # download data\n",
        "    pool = multiprocessing.Pool(processes=12)\n",
        "    with tqdm(total=len(fnames_urls)) as progress_bar:\n",
        "        for _ in pool.imap_unordered(download_image, fnames_urls):\n",
        "            progress_bar.update(1)"
      ],
      "execution_count": 3,
      "outputs": [
        {
          "output_type": "stream",
          "text": [
            "100%|██████████| 3000/3000 [01:00<00:00, 49.52it/s]\n"
          ],
          "name": "stderr"
        }
      ]
    },
    {
      "metadata": {
        "id": "4_CbvejY67JW",
        "colab_type": "text"
      },
      "cell_type": "markdown",
      "source": [
        "# Run training"
      ]
    },
    {
      "metadata": {
        "id": "tSE0WP2F69Zw",
        "colab_type": "code",
        "colab": {
          "autoexec": {
            "startup": false,
            "wait_interval": 0
          },
          "base_uri": "https://localhost:8080/",
          "height": 55
        },
        "outputId": "a58207c4-7e58-4e30-8f37-e9b8fa875fff"
      },
      "cell_type": "code",
      "source": [
        "import keras\n",
        "import numpy as np\n",
        "\n",
        "# Pre-trained models imports\n",
        "from keras.applications import vgg16, xception\n",
        "\n",
        "# Preprocessing imports\n",
        "from keras.applications.imagenet_utils import decode_predictions\n",
        "from keras.callbacks import ModelCheckpoint\n",
        "from keras.preprocessing.image import load_img, img_to_array\n",
        "from keras.preprocessing.image import ImageDataGenerator\n",
        "\n",
        "# Layer imports\n",
        "from keras.layers import Flatten, Dense\n",
        "from keras import Model\n",
        "\n",
        "# Files\n",
        "from os import listdir\n",
        "from os.path import isfile, join\n",
        "import json\n",
        "from itertools import chain, repeat, cycle\n",
        "\n",
        "# Multi-hot encoding\n",
        "from sklearn.preprocessing import MultiLabelBinarizer\n",
        "mlb = MultiLabelBinarizer()\n",
        "\n",
        "# Number of classes\n",
        "from tqdm import tqdm\n",
        "\n",
        "num_classes = 210\n",
        "batch_size = 128\n",
        "\n",
        "# Path\n",
        "path = './train/'\n",
        "\n",
        "# Train labels\n",
        "print(\"Opening train.json\")\n",
        "json_data = open('train.json')\n",
        "data = json.load(json_data)\n",
        "y_labels = [annotation['labelId'] for annotation in data['annotations'][:4000]]\n",
        "y_labels = np.array(mlb.fit_transform(y_labels))\n",
        "print(y_labels.shape)\n",
        "\n",
        "# Training augmentation configuration \n",
        "train_datagen = ImageDataGenerator(\n",
        "    rescale=1./255,\n",
        "    horizontal_flip=True)\n",
        "\n",
        "def grouper(batch_size, iterable, padvalue=None):\n",
        "  g = cycle(zip(*[chain(iterable, repeat(padvalue, batch_size-1))]*batch_size))\n",
        "  for batch in g:\n",
        "    yield list(filter(None, batch))\n",
        "\n",
        "def multilabel_flow(path_to_data, idg, batch_size=128, target_size=(299, 299), train_or_validation='train'):\n",
        "  gen = idg.flow_from_directory(path_to_data, batch_size=batch_size, target_size=target_size, classes=[train_or_validation], shuffle=False)\n",
        "  labels_generator = grouper(batch_size, gen.filenames)\n",
        "  for (X_batch, _), names in zip(gen, labels_generator):\n",
        "    names = [n.split('/')[-1].replace('.jpg', '') for n in names]\n",
        "    names = list(map(int, names))\n",
        "    targets = np.take(y_labels, names)\n",
        "    print(targets)\n",
        "    yield X_batch, targets\n",
        "  \n",
        "train_generator = multilabel_flow(\n",
        "    './',\n",
        "    train_datagen,\n",
        "    batch_size=batch_size,\n",
        "    train_or_validation='train'\n",
        ")\n",
        "\n",
        "# Setup models\n",
        "base_xception_model = xception.Xception(weights='imagenet', include_top=False, input_shape=(299, 299, 3))\n",
        "x_xception = base_xception_model.output\n",
        "x_xception = Flatten()(x_xception)\n",
        "x_xception = Dense(512, activation='relu')(x_xception)\n",
        "predictions_xception = Dense(num_classes, activation='softmax')(x_xception)\n",
        "\n",
        "model_xception = Model(inputs=base_xception_model.input, outputs=predictions_xception)\n",
        "\n",
        "for layer in base_xception_model.layers[:120]:\n",
        "\tlayer.trainable = False\n",
        "for layer in base_xception_model.layers[120:]:\n",
        "\tlayer.trainable = True\n",
        "\n",
        "model_xception.compile(optimizer='adam', loss='categorical_crossentropy', metrics=['accuracy'])\n",
        "\n",
        "# model_xception.load_weights('xception_checkpoint.hdf5')\n",
        "# Model checkpoint\n",
        "logger_xception = ModelCheckpoint('xception_checkpoint.hdf5', monitor='val_acc', verbose=1, save_best_only=True, mode='max')\n",
        "\n",
        "# Train input\n",
        "# X_train = [xception.preprocess_input(np.expand_dims(img_to_array(load_img(join(path, f), target_size=(299, 299))), axis=0))[0] for f in tqdm(listdir(path)) if isfile(join(path, f))]\n",
        "# X_test = np.array(X_train[4000:])\n",
        "# X_train = np.array(X_train[:4000])\n",
        "# print(X_train.shape)\n",
        "\n",
        "\n",
        "# Fit the model\n",
        "model_xception.fit_generator(\n",
        "    train_generator,\n",
        "    steps_per_epoch=2000 // batch_size,\n",
        "    epochs=20,\n",
        "    callbacks=[logger_xception]    \n",
        ")\n",
        "\n",
        "#filename = '../test/3.jpg\n",
        "#original = xception.preprocess_input(np.expand_dims(img_to_array(load_img(filename, target_size=(224, 224))), axis=0))\n",
        "\n",
        "#processed_image = xception.preprocess_input(original.copy())\n",
        "#predictions = xception_model.predict(processed_image)\n",
        "#print(decode_predictions(predictions))"
      ],
      "execution_count": 0,
      "outputs": [
        {
          "output_type": "stream",
          "text": [
            "Opening train.json\n",
            "(4000, 210)\n"
          ],
          "name": "stdout"
        }
      ]
    },
    {
      "metadata": {
        "id": "oNDnCTTYDiMl",
        "colab_type": "code",
        "colab": {
          "autoexec": {
            "startup": false,
            "wait_interval": 0
          },
          "base_uri": "https://localhost:8080/",
          "height": 188
        },
        "outputId": "fddf4cc5-5cd4-4c4c-c32c-94e05dd38a18",
        "executionInfo": {
          "status": "ok",
          "timestamp": 1524512998785,
          "user_tz": -120,
          "elapsed": 1528,
          "user": {
            "displayName": "Tristan de Boer",
            "photoUrl": "https://lh3.googleusercontent.com/a/default-user=s128",
            "userId": "105078570109525655358"
          }
        }
      },
      "cell_type": "code",
      "source": [
        "!df -h"
      ],
      "execution_count": 1,
      "outputs": [
        {
          "output_type": "stream",
          "text": [
            "Filesystem      Size  Used Avail Use% Mounted on\r\n",
            "overlay         359G  7.6G  333G   3% /\r\n",
            "tmpfs           6.4G     0  6.4G   0% /dev\r\n",
            "tmpfs           6.4G     0  6.4G   0% /sys/fs/cgroup\r\n",
            "/dev/root       1.2G  537M  684M  44% /opt/bin\r\n",
            "tmpfs           6.4G  248M  6.2G   4% /usr/lib64-nvidia\r\n",
            "/dev/sda1       365G  9.1G  356G   3% /etc/hosts\r\n",
            "shm              64M     0   64M   0% /dev/shm\r\n",
            "tmpfs           6.4G     0  6.4G   0% /sys/firmware\r\n"
          ],
          "name": "stdout"
        }
      ]
    }
  ]
}